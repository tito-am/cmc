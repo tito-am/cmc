{
 "cells": [
  {
   "cell_type": "markdown",
   "metadata": {},
   "source": [
    "# Code pour aller chercher les prévisions de Gust 12z"
   ]
  },
  {
   "cell_type": "code",
   "execution_count": 11,
   "metadata": {},
   "outputs": [],
   "source": [
    "import requests\n",
    "import urllib.request\n",
    "import time\n",
    "from bs4 import BeautifulSoup\n",
    "import os"
   ]
  },
  {
   "cell_type": "markdown",
   "metadata": {},
   "source": [
    "## Traitement de la date"
   ]
  },
  {
   "cell_type": "code",
   "execution_count": 12,
   "metadata": {},
   "outputs": [
    {
     "name": "stdout",
     "output_type": "stream",
     "text": [
      "Today's date: 2021-04-07\n",
      "d1 = 20210407\n"
     ]
    }
   ],
   "source": [
    "#from datetime import date\n",
    "import datetime\n",
    "\n",
    "today = datetime.date.today()\n",
    "print(\"Today's date:\", today)\n",
    "#selon le format des fichiers grib\n",
    "d1 = today.strftime(\"%Y%m%d\")\n",
    "print(\"d1 =\", d1)\n",
    "date_time_obj = datetime.datetime.strptime(d1, '%Y%m%d')\n",
    "date_time_obj.weekday()\n",
    "date=date_time_obj.strftime('%A')"
   ]
  },
  {
   "cell_type": "code",
   "execution_count": 13,
   "metadata": {},
   "outputs": [],
   "source": [
    "#URL = 'https://dd.weather.gc.ca/ensemble/geps/grib2/raw/00/'\n",
    "emission = '00'#00/\n",
    "URL = 'https://dd.weather.gc.ca/model_gem_regional/10km/grib2/'+emission+'/'\n",
    "page = requests.get(URL)\n",
    "soup = BeautifulSoup(page.content, 'html.parser')"
   ]
  },
  {
   "cell_type": "code",
   "execution_count": 14,
   "metadata": {},
   "outputs": [],
   "source": [
    "#CMC_geps-raw_TMP_TGL_2m_latlon0p5x0p5_2021031800_P390_allmbrs.grib2\n",
    "#CMC_glb_GUST_TGL_10_latlon.24x.24_2021032500_P000.grib2 \n",
    "#CMC_reg_GUST_TGL_10_ps10km_2021032600_P000.grib2 \n",
    "def my_function(date,d1):\n",
    "    if date=='Thursday':\n",
    "        for url_b in range(0, 85, 1):\n",
    "            if url_b < 10:\n",
    "                url_a='/CMC_reg_WIND_TGL_10_ps10km_'+d1+emission+'_P00'\n",
    "                url_c='.grib2'\n",
    "                print(URL+'00'+str(url_b)+url_a+str(url_b)+url_c)\n",
    "                download_url=URL+'00'+str(url_b)+url_a+str(url_b)+url_c\n",
    "                urllib.request.urlretrieve(download_url,filename='test_reg_wind'+emission+d1+str(url_b)+'.grib2')\n",
    "\n",
    "            elif ((url_b>= 10) and (url_b< 100)):\n",
    "                url_a='/CMC_reg_WIND_TGL_10_ps10km_'+d1+emission+'_P0'\n",
    "                url_c='.grib2'\n",
    "                print(URL+'0'+str(url_b)+url_a+str(url_b)+url_c)\n",
    "                download_url=URL+'0'+str(url_b)+url_a+str(url_b)+url_c\n",
    "                urllib.request.urlretrieve(download_url,filename='test_reg_wind'+emission+d1+str(url_b)+'.grib2')\n",
    "            else:\n",
    "                url_a='/CMC_geps-raw_TMP_TGL_2m_latlon0p5x0p5_'+d1+'12_P'\n",
    "                url_c='_allmbrs.grib2'\n",
    "                print(URL+str(url_b)+url_a+str(url_b)+url_c)\n",
    "                download_url=URL+str(url_b)+url_a+str(url_b)+url_c\n",
    "                urllib.request.urlretrieve(download_url,filename='test_reg'+emission+d1+str(url_b)+'.grib2')\n",
    "    else:\n",
    "        for url_b in range(0, 85, 1):\n",
    "            if url_b < 10:\n",
    "                url_a='/CMC_reg_WIND_TGL_10_ps10km_'+d1+emission+'_P00'\n",
    "                url_c='.grib2'\n",
    "                print(URL+'00'+str(url_b)+url_a+str(url_b)+url_c)\n",
    "                download_url=URL+'00'+str(url_b)+url_a+str(url_b)+url_c\n",
    "                urllib.request.urlretrieve(download_url,filename='test_reg_wind'+d1+str(url_b)+'.grib2')\n",
    "            elif ((url_b>= 10) and (url_b< 100)):\n",
    "                url_a='/CMC_reg_WIND_TGL_10_ps10km_'+d1+emission+'_P0'\n",
    "                url_c='.grib2'\n",
    "                print(URL+'0'+str(url_b)+url_a+str(url_b)+url_c)\n",
    "                download_url=URL+'0'+str(url_b)+url_a+str(url_b)+url_c\n",
    "                print(download_url)\n",
    "                urllib.request.urlretrieve(download_url,filename='test_reg_wind'+d1+str(url_b)+'.grib2')\n",
    "            else:\n",
    "                url_a='/CMC_geps-raw_TMP_TGL_2m_latlon0p5x0p5_'+d1+emission+'_P'\n",
    "                url_c='_allmbrs.grib2'\n",
    "                print(URL+str(url_b)+url_a+str(url_b)+url_c)\n",
    "                download_url=URL+str(url_b)+url_a+str(url_b)+url_c\n",
    "                urllib.request.urlretrieve(download_url,filename='test'+d1+str(url_b)+'.grib2')\n",
    "        \n",
    "    "
   ]
  },
  {
   "cell_type": "code",
   "execution_count": null,
   "metadata": {},
   "outputs": [
    {
     "name": "stdout",
     "output_type": "stream",
     "text": [
      "https://dd.weather.gc.ca/model_gem_regional/10km/grib2/00/000/CMC_reg_WIND_TGL_10_ps10km_2021040700_P000.grib2\n",
      "https://dd.weather.gc.ca/model_gem_regional/10km/grib2/00/001/CMC_reg_WIND_TGL_10_ps10km_2021040700_P001.grib2\n",
      "https://dd.weather.gc.ca/model_gem_regional/10km/grib2/00/002/CMC_reg_WIND_TGL_10_ps10km_2021040700_P002.grib2\n",
      "https://dd.weather.gc.ca/model_gem_regional/10km/grib2/00/003/CMC_reg_WIND_TGL_10_ps10km_2021040700_P003.grib2\n",
      "https://dd.weather.gc.ca/model_gem_regional/10km/grib2/00/004/CMC_reg_WIND_TGL_10_ps10km_2021040700_P004.grib2\n",
      "https://dd.weather.gc.ca/model_gem_regional/10km/grib2/00/005/CMC_reg_WIND_TGL_10_ps10km_2021040700_P005.grib2\n",
      "https://dd.weather.gc.ca/model_gem_regional/10km/grib2/00/006/CMC_reg_WIND_TGL_10_ps10km_2021040700_P006.grib2\n",
      "https://dd.weather.gc.ca/model_gem_regional/10km/grib2/00/007/CMC_reg_WIND_TGL_10_ps10km_2021040700_P007.grib2\n",
      "https://dd.weather.gc.ca/model_gem_regional/10km/grib2/00/008/CMC_reg_WIND_TGL_10_ps10km_2021040700_P008.grib2\n",
      "https://dd.weather.gc.ca/model_gem_regional/10km/grib2/00/009/CMC_reg_WIND_TGL_10_ps10km_2021040700_P009.grib2\n",
      "https://dd.weather.gc.ca/model_gem_regional/10km/grib2/00/010/CMC_reg_WIND_TGL_10_ps10km_2021040700_P010.grib2\n",
      "https://dd.weather.gc.ca/model_gem_regional/10km/grib2/00/010/CMC_reg_WIND_TGL_10_ps10km_2021040700_P010.grib2\n",
      "https://dd.weather.gc.ca/model_gem_regional/10km/grib2/00/011/CMC_reg_WIND_TGL_10_ps10km_2021040700_P011.grib2\n",
      "https://dd.weather.gc.ca/model_gem_regional/10km/grib2/00/011/CMC_reg_WIND_TGL_10_ps10km_2021040700_P011.grib2\n"
     ]
    }
   ],
   "source": [
    "my_function(date,d1)\n"
   ]
  },
  {
   "cell_type": "code",
   "execution_count": 53,
   "metadata": {},
   "outputs": [
    {
     "data": {
      "text/plain": [
       "'/Users/caramelo/Documents/GitHub/cmc'"
      ]
     },
     "execution_count": 53,
     "metadata": {},
     "output_type": "execute_result"
    }
   ],
   "source": [
    "os.getcwd()\n"
   ]
  },
  {
   "cell_type": "code",
   "execution_count": null,
   "metadata": {},
   "outputs": [],
   "source": []
  }
 ],
 "metadata": {
  "kernelspec": {
   "display_name": "test_xesmf",
   "language": "python",
   "name": "test_xesmf"
  },
  "language_info": {
   "codemirror_mode": {
    "name": "ipython",
    "version": 3
   },
   "file_extension": ".py",
   "mimetype": "text/x-python",
   "name": "python",
   "nbconvert_exporter": "python",
   "pygments_lexer": "ipython3",
   "version": "3.9.2"
  }
 },
 "nbformat": 4,
 "nbformat_minor": 5
}
