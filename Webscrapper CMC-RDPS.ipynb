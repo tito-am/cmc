{
 "cells": [
  {
   "cell_type": "markdown",
   "metadata": {},
   "source": [
    "# Code pour aller chercher les prévisions de Gust 12z"
   ]
  },
  {
   "cell_type": "code",
   "execution_count": 1,
   "metadata": {},
   "outputs": [],
   "source": [
    "import requests\n",
    "import urllib.request\n",
    "import time\n",
    "from bs4 import BeautifulSoup\n",
    "import os"
   ]
  },
  {
   "cell_type": "markdown",
   "metadata": {},
   "source": [
    "## Traitement de la date"
   ]
  },
  {
   "cell_type": "code",
   "execution_count": 2,
   "metadata": {},
   "outputs": [
    {
     "name": "stdout",
     "output_type": "stream",
     "text": [
      "Today's date: 2021-04-08\n",
      "d1 = 20210408\n"
     ]
    }
   ],
   "source": [
    "#from datetime import date\n",
    "import datetime\n",
    "\n",
    "today = datetime.date.today()\n",
    "print(\"Today's date:\", today)\n",
    "#selon le format des fichiers grib\n",
    "d1 = today.strftime(\"%Y%m%d\")\n",
    "print(\"d1 =\", d1)\n",
    "date_time_obj = datetime.datetime.strptime(d1, '%Y%m%d')\n",
    "date_time_obj.weekday()\n",
    "date=date_time_obj.strftime('%A')"
   ]
  },
  {
   "cell_type": "code",
   "execution_count": 3,
   "metadata": {},
   "outputs": [],
   "source": [
    "#URL = 'https://dd.weather.gc.ca/ensemble/geps/grib2/raw/00/'\n",
    "emission = '12'#00/\n",
    "URL = 'https://dd.weather.gc.ca/model_gem_regional/10km/grib2/'+emission+'/'\n",
    "page = requests.get(URL)\n",
    "soup = BeautifulSoup(page.content, 'html.parser')"
   ]
  },
  {
   "cell_type": "code",
   "execution_count": 4,
   "metadata": {},
   "outputs": [],
   "source": [
    "#CMC_geps-raw_TMP_TGL_2m_latlon0p5x0p5_2021031800_P390_allmbrs.grib2\n",
    "#CMC_glb_GUST_TGL_10_latlon.24x.24_2021032500_P000.grib2 \n",
    "#CMC_reg_GUST_TGL_10_ps10km_2021032600_P000.grib2 \n",
    "def my_function(date,d1):\n",
    "    if date=='Thursday':\n",
    "        for url_b in range(0, 85, 1):\n",
    "            if url_b < 10:\n",
    "                url_a='/CMC_reg_WIND_TGL_10_ps10km_'+d1+emission+'_P00'\n",
    "                url_c='.grib2'\n",
    "                print(URL+'00'+str(url_b)+url_a+str(url_b)+url_c)\n",
    "                download_url=URL+'00'+str(url_b)+url_a+str(url_b)+url_c\n",
    "                urllib.request.urlretrieve(download_url,filename='test_reg_wind'+emission+d1+str(url_b)+'.grib2')\n",
    "\n",
    "            elif ((url_b>= 10) and (url_b< 100)):\n",
    "                url_a='/CMC_reg_WIND_TGL_10_ps10km_'+d1+emission+'_P0'\n",
    "                url_c='.grib2'\n",
    "                print(URL+'0'+str(url_b)+url_a+str(url_b)+url_c)\n",
    "                download_url=URL+'0'+str(url_b)+url_a+str(url_b)+url_c\n",
    "                urllib.request.urlretrieve(download_url,filename='test_reg_wind'+emission+d1+str(url_b)+'.grib2')\n",
    "            else:\n",
    "                url_a='/CMC_geps-raw_TMP_TGL_2m_latlon0p5x0p5_'+d1+'12_P'\n",
    "                url_c='_allmbrs.grib2'\n",
    "                print(URL+str(url_b)+url_a+str(url_b)+url_c)\n",
    "                download_url=URL+str(url_b)+url_a+str(url_b)+url_c\n",
    "                urllib.request.urlretrieve(download_url,filename='test_reg'+emission+d1+str(url_b)+'.grib2')\n",
    "    else:\n",
    "        for url_b in range(0, 85, 1):\n",
    "            if url_b < 10:\n",
    "                url_a='/CMC_reg_WIND_TGL_10_ps10km_'+d1+emission+'_P00'\n",
    "                url_c='.grib2'\n",
    "                print(URL+'00'+str(url_b)+url_a+str(url_b)+url_c)\n",
    "                download_url=URL+'00'+str(url_b)+url_a+str(url_b)+url_c\n",
    "                urllib.request.urlretrieve(download_url,filename='test_reg_wind'+d1+str(url_b)+'.grib2')\n",
    "            elif ((url_b>= 10) and (url_b< 100)):\n",
    "                url_a='/CMC_reg_WIND_TGL_10_ps10km_'+d1+emission+'_P0'\n",
    "                url_c='.grib2'\n",
    "                print(URL+'0'+str(url_b)+url_a+str(url_b)+url_c)\n",
    "                download_url=URL+'0'+str(url_b)+url_a+str(url_b)+url_c\n",
    "                print(download_url)\n",
    "                urllib.request.urlretrieve(download_url,filename='test_reg_wind'+d1+str(url_b)+'.grib2')\n",
    "            else:\n",
    "                url_a='/CMC_geps-raw_TMP_TGL_2m_latlon0p5x0p5_'+d1+emission+'_P'\n",
    "                url_c='_allmbrs.grib2'\n",
    "                print(URL+str(url_b)+url_a+str(url_b)+url_c)\n",
    "                download_url=URL+str(url_b)+url_a+str(url_b)+url_c\n",
    "                urllib.request.urlretrieve(download_url,filename='test'+d1+str(url_b)+'.grib2')\n",
    "        \n",
    "    "
   ]
  },
  {
   "cell_type": "code",
   "execution_count": 5,
   "metadata": {},
   "outputs": [
    {
     "name": "stdout",
     "output_type": "stream",
     "text": [
      "https://dd.weather.gc.ca/model_gem_regional/10km/grib2/12/000/CMC_reg_WIND_TGL_10_ps10km_2021040812_P000.grib2\n",
      "https://dd.weather.gc.ca/model_gem_regional/10km/grib2/12/001/CMC_reg_WIND_TGL_10_ps10km_2021040812_P001.grib2\n",
      "https://dd.weather.gc.ca/model_gem_regional/10km/grib2/12/002/CMC_reg_WIND_TGL_10_ps10km_2021040812_P002.grib2\n",
      "https://dd.weather.gc.ca/model_gem_regional/10km/grib2/12/003/CMC_reg_WIND_TGL_10_ps10km_2021040812_P003.grib2\n",
      "https://dd.weather.gc.ca/model_gem_regional/10km/grib2/12/004/CMC_reg_WIND_TGL_10_ps10km_2021040812_P004.grib2\n",
      "https://dd.weather.gc.ca/model_gem_regional/10km/grib2/12/005/CMC_reg_WIND_TGL_10_ps10km_2021040812_P005.grib2\n",
      "https://dd.weather.gc.ca/model_gem_regional/10km/grib2/12/006/CMC_reg_WIND_TGL_10_ps10km_2021040812_P006.grib2\n",
      "https://dd.weather.gc.ca/model_gem_regional/10km/grib2/12/007/CMC_reg_WIND_TGL_10_ps10km_2021040812_P007.grib2\n",
      "https://dd.weather.gc.ca/model_gem_regional/10km/grib2/12/008/CMC_reg_WIND_TGL_10_ps10km_2021040812_P008.grib2\n",
      "https://dd.weather.gc.ca/model_gem_regional/10km/grib2/12/009/CMC_reg_WIND_TGL_10_ps10km_2021040812_P009.grib2\n",
      "https://dd.weather.gc.ca/model_gem_regional/10km/grib2/12/010/CMC_reg_WIND_TGL_10_ps10km_2021040812_P010.grib2\n",
      "https://dd.weather.gc.ca/model_gem_regional/10km/grib2/12/011/CMC_reg_WIND_TGL_10_ps10km_2021040812_P011.grib2\n",
      "https://dd.weather.gc.ca/model_gem_regional/10km/grib2/12/012/CMC_reg_WIND_TGL_10_ps10km_2021040812_P012.grib2\n",
      "https://dd.weather.gc.ca/model_gem_regional/10km/grib2/12/013/CMC_reg_WIND_TGL_10_ps10km_2021040812_P013.grib2\n",
      "https://dd.weather.gc.ca/model_gem_regional/10km/grib2/12/014/CMC_reg_WIND_TGL_10_ps10km_2021040812_P014.grib2\n",
      "https://dd.weather.gc.ca/model_gem_regional/10km/grib2/12/015/CMC_reg_WIND_TGL_10_ps10km_2021040812_P015.grib2\n",
      "https://dd.weather.gc.ca/model_gem_regional/10km/grib2/12/016/CMC_reg_WIND_TGL_10_ps10km_2021040812_P016.grib2\n",
      "https://dd.weather.gc.ca/model_gem_regional/10km/grib2/12/017/CMC_reg_WIND_TGL_10_ps10km_2021040812_P017.grib2\n",
      "https://dd.weather.gc.ca/model_gem_regional/10km/grib2/12/018/CMC_reg_WIND_TGL_10_ps10km_2021040812_P018.grib2\n",
      "https://dd.weather.gc.ca/model_gem_regional/10km/grib2/12/019/CMC_reg_WIND_TGL_10_ps10km_2021040812_P019.grib2\n",
      "https://dd.weather.gc.ca/model_gem_regional/10km/grib2/12/020/CMC_reg_WIND_TGL_10_ps10km_2021040812_P020.grib2\n",
      "https://dd.weather.gc.ca/model_gem_regional/10km/grib2/12/021/CMC_reg_WIND_TGL_10_ps10km_2021040812_P021.grib2\n",
      "https://dd.weather.gc.ca/model_gem_regional/10km/grib2/12/022/CMC_reg_WIND_TGL_10_ps10km_2021040812_P022.grib2\n",
      "https://dd.weather.gc.ca/model_gem_regional/10km/grib2/12/023/CMC_reg_WIND_TGL_10_ps10km_2021040812_P023.grib2\n",
      "https://dd.weather.gc.ca/model_gem_regional/10km/grib2/12/024/CMC_reg_WIND_TGL_10_ps10km_2021040812_P024.grib2\n",
      "https://dd.weather.gc.ca/model_gem_regional/10km/grib2/12/025/CMC_reg_WIND_TGL_10_ps10km_2021040812_P025.grib2\n",
      "https://dd.weather.gc.ca/model_gem_regional/10km/grib2/12/026/CMC_reg_WIND_TGL_10_ps10km_2021040812_P026.grib2\n",
      "https://dd.weather.gc.ca/model_gem_regional/10km/grib2/12/027/CMC_reg_WIND_TGL_10_ps10km_2021040812_P027.grib2\n",
      "https://dd.weather.gc.ca/model_gem_regional/10km/grib2/12/028/CMC_reg_WIND_TGL_10_ps10km_2021040812_P028.grib2\n",
      "https://dd.weather.gc.ca/model_gem_regional/10km/grib2/12/029/CMC_reg_WIND_TGL_10_ps10km_2021040812_P029.grib2\n",
      "https://dd.weather.gc.ca/model_gem_regional/10km/grib2/12/030/CMC_reg_WIND_TGL_10_ps10km_2021040812_P030.grib2\n",
      "https://dd.weather.gc.ca/model_gem_regional/10km/grib2/12/031/CMC_reg_WIND_TGL_10_ps10km_2021040812_P031.grib2\n",
      "https://dd.weather.gc.ca/model_gem_regional/10km/grib2/12/032/CMC_reg_WIND_TGL_10_ps10km_2021040812_P032.grib2\n",
      "https://dd.weather.gc.ca/model_gem_regional/10km/grib2/12/033/CMC_reg_WIND_TGL_10_ps10km_2021040812_P033.grib2\n",
      "https://dd.weather.gc.ca/model_gem_regional/10km/grib2/12/034/CMC_reg_WIND_TGL_10_ps10km_2021040812_P034.grib2\n",
      "https://dd.weather.gc.ca/model_gem_regional/10km/grib2/12/035/CMC_reg_WIND_TGL_10_ps10km_2021040812_P035.grib2\n",
      "https://dd.weather.gc.ca/model_gem_regional/10km/grib2/12/036/CMC_reg_WIND_TGL_10_ps10km_2021040812_P036.grib2\n",
      "https://dd.weather.gc.ca/model_gem_regional/10km/grib2/12/037/CMC_reg_WIND_TGL_10_ps10km_2021040812_P037.grib2\n",
      "https://dd.weather.gc.ca/model_gem_regional/10km/grib2/12/038/CMC_reg_WIND_TGL_10_ps10km_2021040812_P038.grib2\n",
      "https://dd.weather.gc.ca/model_gem_regional/10km/grib2/12/039/CMC_reg_WIND_TGL_10_ps10km_2021040812_P039.grib2\n",
      "https://dd.weather.gc.ca/model_gem_regional/10km/grib2/12/040/CMC_reg_WIND_TGL_10_ps10km_2021040812_P040.grib2\n",
      "https://dd.weather.gc.ca/model_gem_regional/10km/grib2/12/041/CMC_reg_WIND_TGL_10_ps10km_2021040812_P041.grib2\n",
      "https://dd.weather.gc.ca/model_gem_regional/10km/grib2/12/042/CMC_reg_WIND_TGL_10_ps10km_2021040812_P042.grib2\n",
      "https://dd.weather.gc.ca/model_gem_regional/10km/grib2/12/043/CMC_reg_WIND_TGL_10_ps10km_2021040812_P043.grib2\n",
      "https://dd.weather.gc.ca/model_gem_regional/10km/grib2/12/044/CMC_reg_WIND_TGL_10_ps10km_2021040812_P044.grib2\n",
      "https://dd.weather.gc.ca/model_gem_regional/10km/grib2/12/045/CMC_reg_WIND_TGL_10_ps10km_2021040812_P045.grib2\n",
      "https://dd.weather.gc.ca/model_gem_regional/10km/grib2/12/046/CMC_reg_WIND_TGL_10_ps10km_2021040812_P046.grib2\n",
      "https://dd.weather.gc.ca/model_gem_regional/10km/grib2/12/047/CMC_reg_WIND_TGL_10_ps10km_2021040812_P047.grib2\n",
      "https://dd.weather.gc.ca/model_gem_regional/10km/grib2/12/048/CMC_reg_WIND_TGL_10_ps10km_2021040812_P048.grib2\n",
      "https://dd.weather.gc.ca/model_gem_regional/10km/grib2/12/049/CMC_reg_WIND_TGL_10_ps10km_2021040812_P049.grib2\n",
      "https://dd.weather.gc.ca/model_gem_regional/10km/grib2/12/050/CMC_reg_WIND_TGL_10_ps10km_2021040812_P050.grib2\n",
      "https://dd.weather.gc.ca/model_gem_regional/10km/grib2/12/051/CMC_reg_WIND_TGL_10_ps10km_2021040812_P051.grib2\n",
      "https://dd.weather.gc.ca/model_gem_regional/10km/grib2/12/052/CMC_reg_WIND_TGL_10_ps10km_2021040812_P052.grib2\n",
      "https://dd.weather.gc.ca/model_gem_regional/10km/grib2/12/053/CMC_reg_WIND_TGL_10_ps10km_2021040812_P053.grib2\n",
      "https://dd.weather.gc.ca/model_gem_regional/10km/grib2/12/054/CMC_reg_WIND_TGL_10_ps10km_2021040812_P054.grib2\n",
      "https://dd.weather.gc.ca/model_gem_regional/10km/grib2/12/055/CMC_reg_WIND_TGL_10_ps10km_2021040812_P055.grib2\n",
      "https://dd.weather.gc.ca/model_gem_regional/10km/grib2/12/056/CMC_reg_WIND_TGL_10_ps10km_2021040812_P056.grib2\n",
      "https://dd.weather.gc.ca/model_gem_regional/10km/grib2/12/057/CMC_reg_WIND_TGL_10_ps10km_2021040812_P057.grib2\n",
      "https://dd.weather.gc.ca/model_gem_regional/10km/grib2/12/058/CMC_reg_WIND_TGL_10_ps10km_2021040812_P058.grib2\n",
      "https://dd.weather.gc.ca/model_gem_regional/10km/grib2/12/059/CMC_reg_WIND_TGL_10_ps10km_2021040812_P059.grib2\n",
      "https://dd.weather.gc.ca/model_gem_regional/10km/grib2/12/060/CMC_reg_WIND_TGL_10_ps10km_2021040812_P060.grib2\n",
      "https://dd.weather.gc.ca/model_gem_regional/10km/grib2/12/061/CMC_reg_WIND_TGL_10_ps10km_2021040812_P061.grib2\n",
      "https://dd.weather.gc.ca/model_gem_regional/10km/grib2/12/062/CMC_reg_WIND_TGL_10_ps10km_2021040812_P062.grib2\n",
      "https://dd.weather.gc.ca/model_gem_regional/10km/grib2/12/063/CMC_reg_WIND_TGL_10_ps10km_2021040812_P063.grib2\n",
      "https://dd.weather.gc.ca/model_gem_regional/10km/grib2/12/064/CMC_reg_WIND_TGL_10_ps10km_2021040812_P064.grib2\n",
      "https://dd.weather.gc.ca/model_gem_regional/10km/grib2/12/065/CMC_reg_WIND_TGL_10_ps10km_2021040812_P065.grib2\n",
      "https://dd.weather.gc.ca/model_gem_regional/10km/grib2/12/066/CMC_reg_WIND_TGL_10_ps10km_2021040812_P066.grib2\n",
      "https://dd.weather.gc.ca/model_gem_regional/10km/grib2/12/067/CMC_reg_WIND_TGL_10_ps10km_2021040812_P067.grib2\n",
      "https://dd.weather.gc.ca/model_gem_regional/10km/grib2/12/068/CMC_reg_WIND_TGL_10_ps10km_2021040812_P068.grib2\n",
      "https://dd.weather.gc.ca/model_gem_regional/10km/grib2/12/069/CMC_reg_WIND_TGL_10_ps10km_2021040812_P069.grib2\n",
      "https://dd.weather.gc.ca/model_gem_regional/10km/grib2/12/070/CMC_reg_WIND_TGL_10_ps10km_2021040812_P070.grib2\n",
      "https://dd.weather.gc.ca/model_gem_regional/10km/grib2/12/071/CMC_reg_WIND_TGL_10_ps10km_2021040812_P071.grib2\n",
      "https://dd.weather.gc.ca/model_gem_regional/10km/grib2/12/072/CMC_reg_WIND_TGL_10_ps10km_2021040812_P072.grib2\n",
      "https://dd.weather.gc.ca/model_gem_regional/10km/grib2/12/073/CMC_reg_WIND_TGL_10_ps10km_2021040812_P073.grib2\n",
      "https://dd.weather.gc.ca/model_gem_regional/10km/grib2/12/074/CMC_reg_WIND_TGL_10_ps10km_2021040812_P074.grib2\n",
      "https://dd.weather.gc.ca/model_gem_regional/10km/grib2/12/075/CMC_reg_WIND_TGL_10_ps10km_2021040812_P075.grib2\n",
      "https://dd.weather.gc.ca/model_gem_regional/10km/grib2/12/076/CMC_reg_WIND_TGL_10_ps10km_2021040812_P076.grib2\n",
      "https://dd.weather.gc.ca/model_gem_regional/10km/grib2/12/077/CMC_reg_WIND_TGL_10_ps10km_2021040812_P077.grib2\n",
      "https://dd.weather.gc.ca/model_gem_regional/10km/grib2/12/078/CMC_reg_WIND_TGL_10_ps10km_2021040812_P078.grib2\n",
      "https://dd.weather.gc.ca/model_gem_regional/10km/grib2/12/079/CMC_reg_WIND_TGL_10_ps10km_2021040812_P079.grib2\n",
      "https://dd.weather.gc.ca/model_gem_regional/10km/grib2/12/080/CMC_reg_WIND_TGL_10_ps10km_2021040812_P080.grib2\n",
      "https://dd.weather.gc.ca/model_gem_regional/10km/grib2/12/081/CMC_reg_WIND_TGL_10_ps10km_2021040812_P081.grib2\n",
      "https://dd.weather.gc.ca/model_gem_regional/10km/grib2/12/082/CMC_reg_WIND_TGL_10_ps10km_2021040812_P082.grib2\n",
      "https://dd.weather.gc.ca/model_gem_regional/10km/grib2/12/083/CMC_reg_WIND_TGL_10_ps10km_2021040812_P083.grib2\n",
      "https://dd.weather.gc.ca/model_gem_regional/10km/grib2/12/084/CMC_reg_WIND_TGL_10_ps10km_2021040812_P084.grib2\n"
     ]
    }
   ],
   "source": [
    "my_function(date,d1)\n"
   ]
  },
  {
   "cell_type": "code",
   "execution_count": 53,
   "metadata": {},
   "outputs": [
    {
     "data": {
      "text/plain": [
       "'/Users/caramelo/Documents/GitHub/cmc'"
      ]
     },
     "execution_count": 53,
     "metadata": {},
     "output_type": "execute_result"
    }
   ],
   "source": [
    "os.getcwd()\n"
   ]
  },
  {
   "cell_type": "code",
   "execution_count": null,
   "metadata": {},
   "outputs": [],
   "source": []
  }
 ],
 "metadata": {
  "kernelspec": {
   "display_name": "test_xesmf",
   "language": "python",
   "name": "test_xesmf"
  },
  "language_info": {
   "codemirror_mode": {
    "name": "ipython",
    "version": 3
   },
   "file_extension": ".py",
   "mimetype": "text/x-python",
   "name": "python",
   "nbconvert_exporter": "python",
   "pygments_lexer": "ipython3",
   "version": "3.9.2"
  }
 },
 "nbformat": 4,
 "nbformat_minor": 5
}
