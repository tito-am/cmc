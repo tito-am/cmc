{
 "metadata": {
  "language_info": {
   "codemirror_mode": {
    "name": "ipython",
    "version": 3
   },
   "file_extension": ".py",
   "mimetype": "text/x-python",
   "name": "python",
   "nbconvert_exporter": "python",
   "pygments_lexer": "ipython3",
   "version": "3.7.3-final"
  },
  "orig_nbformat": 2,
  "kernelspec": {
   "name": "myenv",
   "display_name": "myenv",
   "language": "python"
  }
 },
 "nbformat": 4,
 "nbformat_minor": 2,
 "cells": [
  {
   "cell_type": "code",
   "execution_count": 2,
   "metadata": {},
   "outputs": [],
   "source": [
    "import numpy as np\n",
    "import pandas as pd\n",
    "import geopandas as gpd\n",
    "import seaborn as sns\n",
    "import cftime\n",
    "import datetime\n",
    "import xarray as xr\n",
    "import wget\n",
    "import os\n",
    "import glob\n",
    "import matplotlib.pyplot as plt\n",
    "import dask\n",
    "%matplotlib inline"
   ]
  },
  {
   "cell_type": "code",
   "execution_count": 4,
   "metadata": {},
   "outputs": [
    {
     "output_type": "execute_result",
     "data": {
      "text/plain": [
       "['CMC_reg_TMP_TGL_2_ps10km_2021030112_P083.grib2',\n",
       " 'CMC_reg_TMP_TGL_2_ps10km_2021030112_P006.grib2',\n",
       " 'CMC_reg_TMP_TGL_2_ps10km_2021030112_P043.grib2',\n",
       " 'CMC_reg_TMP_TGL_2_ps10km_2021030112_P022.grib2',\n",
       " 'CMC_reg_TMP_TGL_2_ps10km_2021030112_P067.grib2',\n",
       " 'CMC_reg_TMP_TGL_2_ps10km_2021030112_P058.grib2',\n",
       " 'CMC_reg_TMP_TGL_2_ps10km_2021030112_P020.grib2',\n",
       " 'CMC_reg_TMP_TGL_2_ps10km_2021030112_P065.grib2',\n",
       " 'CMC_reg_TMP_TGL_2_ps10km_2021030112_P004.grib2',\n",
       " 'CMC_reg_TMP_TGL_2_ps10km_2021030112_P041.grib2',\n",
       " 'CMC_reg_TMP_TGL_2_ps10km_2021030112_P081.grib2',\n",
       " 'CMC_reg_TMP_TGL_2_ps10km_2021030112_P039.grib2',\n",
       " 'CMC_reg_TMP_TGL_2_ps10km_2021030112_P000.grib2',\n",
       " 'CMC_reg_TMP_TGL_2_ps10km_2021030112_P045.grib2',\n",
       " 'CMC_reg_TMP_TGL_2_ps10km_2021030112_P078.grib2',\n",
       " 'CMC_reg_TMP_TGL_2_ps10km_2021030112_P019.grib2',\n",
       " 'CMC_reg_TMP_TGL_2_ps10km_2021030112_P024.grib2',\n",
       " 'CMC_reg_TMP_TGL_2_ps10km_2021030112_P061.grib2',\n",
       " 'CMC_reg_TMP_TGL_2_ps10km_2021030112_P026.grib2',\n",
       " 'CMC_reg_TMP_TGL_2_ps10km_2021030112_P063.grib2',\n",
       " 'CMC_reg_TMP_TGL_2_ps10km_2021030112_P002.grib2',\n",
       " 'CMC_reg_TMP_TGL_2_ps10km_2021030112_P047.grib2',\n",
       " 'CMC_reg_TMP_TGL_2_ps10km_2021030112_P064.grib2',\n",
       " 'CMC_reg_TMP_TGL_2_ps10km_2021030112_P021.grib2',\n",
       " 'CMC_reg_TMP_TGL_2_ps10km_2021030112_P059.grib2',\n",
       " 'CMC_reg_TMP_TGL_2_ps10km_2021030112_P080.grib2',\n",
       " 'CMC_reg_TMP_TGL_2_ps10km_2021030112_P038.grib2',\n",
       " 'CMC_reg_TMP_TGL_2_ps10km_2021030112_P040.grib2',\n",
       " 'CMC_reg_TMP_TGL_2_ps10km_2021030112_P005.grib2',\n",
       " 'CMC_reg_TMP_TGL_2_ps10km_2021030112_P042.grib2',\n",
       " 'CMC_reg_TMP_TGL_2_ps10km_2021030112_P007.grib2',\n",
       " 'CMC_reg_TMP_TGL_2_ps10km_2021030112_P082.grib2',\n",
       " 'CMC_reg_TMP_TGL_2_ps10km_2021030112_P066.grib2',\n",
       " 'CMC_reg_TMP_TGL_2_ps10km_2021030112_P023.grib2',\n",
       " 'CMC_reg_TMP_TGL_2_ps10km_2021030112_P062.grib2',\n",
       " 'CMC_reg_TMP_TGL_2_ps10km_2021030112_P027.grib2',\n",
       " 'CMC_reg_TMP_TGL_2_ps10km_2021030112_P046.grib2',\n",
       " 'CMC_reg_TMP_TGL_2_ps10km_2021030112_P003.grib2',\n",
       " 'CMC_reg_TMP_TGL_2_ps10km_2021030112_P079.grib2',\n",
       " 'CMC_reg_TMP_TGL_2_ps10km_2021030112_P084.grib2',\n",
       " 'CMC_reg_TMP_TGL_2_ps10km_2021030112_P044.grib2',\n",
       " 'CMC_reg_TMP_TGL_2_ps10km_2021030112_P001.grib2',\n",
       " 'CMC_reg_TMP_TGL_2_ps10km_2021030112_P060.grib2',\n",
       " 'CMC_reg_TMP_TGL_2_ps10km_2021030112_P025.grib2',\n",
       " 'CMC_reg_TMP_TGL_2_ps10km_2021030112_P018.grib2',\n",
       " 'CMC_reg_TMP_TGL_2_ps10km_2021030112_P014.grib2',\n",
       " 'CMC_reg_TMP_TGL_2_ps10km_2021030112_P051.grib2',\n",
       " 'CMC_reg_TMP_TGL_2_ps10km_2021030112_P029.grib2',\n",
       " 'CMC_reg_TMP_TGL_2_ps10km_2021030112_P048.grib2',\n",
       " 'CMC_reg_TMP_TGL_2_ps10km_2021030112_P030.grib2',\n",
       " 'CMC_reg_TMP_TGL_2_ps10km_2021030112_P075.grib2',\n",
       " 'CMC_reg_TMP_TGL_2_ps10km_2021030112_P032.grib2',\n",
       " 'CMC_reg_TMP_TGL_2_ps10km_2021030112_P077.grib2',\n",
       " 'CMC_reg_TMP_TGL_2_ps10km_2021030112_P016.grib2',\n",
       " 'CMC_reg_TMP_TGL_2_ps10km_2021030112_P053.grib2',\n",
       " 'CMC_reg_TMP_TGL_2_ps10km_2021030112_P012.grib2',\n",
       " 'CMC_reg_TMP_TGL_2_ps10km_2021030112_P057.grib2',\n",
       " 'CMC_reg_TMP_TGL_2_ps10km_2021030112_P036.grib2',\n",
       " 'CMC_reg_TMP_TGL_2_ps10km_2021030112_P073.grib2',\n",
       " 'CMC_reg_TMP_TGL_2_ps10km_2021030112_P009.grib2',\n",
       " 'CMC_reg_TMP_TGL_2_ps10km_2021030112_P034.grib2',\n",
       " 'CMC_reg_TMP_TGL_2_ps10km_2021030112_P071.grib2',\n",
       " 'CMC_reg_TMP_TGL_2_ps10km_2021030112_P010.grib2',\n",
       " 'CMC_reg_TMP_TGL_2_ps10km_2021030112_P055.grib2',\n",
       " 'CMC_reg_TMP_TGL_2_ps10km_2021030112_P068.grib2',\n",
       " 'CMC_reg_TMP_TGL_2_ps10km_2021030112_P076.grib2',\n",
       " 'CMC_reg_TMP_TGL_2_ps10km_2021030112_P033.grib2',\n",
       " 'CMC_reg_TMP_TGL_2_ps10km_2021030112_P052.grib2',\n",
       " 'CMC_reg_TMP_TGL_2_ps10km_2021030112_P017.grib2',\n",
       " 'CMC_reg_TMP_TGL_2_ps10km_2021030112_P028.grib2',\n",
       " 'CMC_reg_TMP_TGL_2_ps10km_2021030112_P050.grib2',\n",
       " 'CMC_reg_TMP_TGL_2_ps10km_2021030112_P015.grib2',\n",
       " 'CMC_reg_TMP_TGL_2_ps10km_2021030112_P074.grib2',\n",
       " 'CMC_reg_TMP_TGL_2_ps10km_2021030112_P031.grib2',\n",
       " 'CMC_reg_TMP_TGL_2_ps10km_2021030112_P049.grib2',\n",
       " 'CMC_reg_TMP_TGL_2_ps10km_2021030112_P070.grib2',\n",
       " 'CMC_reg_TMP_TGL_2_ps10km_2021030112_P035.grib2',\n",
       " 'CMC_reg_TMP_TGL_2_ps10km_2021030112_P008.grib2',\n",
       " 'CMC_reg_TMP_TGL_2_ps10km_2021030112_P069.grib2',\n",
       " 'CMC_reg_TMP_TGL_2_ps10km_2021030112_P054.grib2',\n",
       " 'CMC_reg_TMP_TGL_2_ps10km_2021030112_P011.grib2',\n",
       " 'CMC_reg_TMP_TGL_2_ps10km_2021030112_P056.grib2',\n",
       " 'CMC_reg_TMP_TGL_2_ps10km_2021030112_P013.grib2',\n",
       " 'CMC_reg_TMP_TGL_2_ps10km_2021030112_P072.grib2',\n",
       " 'CMC_reg_TMP_TGL_2_ps10km_2021030112_P037.grib2']"
      ]
     },
     "metadata": {},
     "execution_count": 4
    }
   ],
   "source": [
    "os.chdir('/Users/caramelo/Documents/0000_Unu_Engineering/wasabi_cloud_storage/gem/TMP')\n",
    "grib_list=glob.glob('*.grib2')\n",
    "grib_list"
   ]
  },
  {
   "cell_type": "code",
   "execution_count": 5,
   "metadata": {},
   "outputs": [],
   "source": [
    "ds=xr.open_mfdataset(grib_list,concat_dim='valid_time',engine='cfgrib',combine='nested')"
   ]
  },
  {
   "cell_type": "code",
   "execution_count": 6,
   "metadata": {},
   "outputs": [],
   "source": [
    "# Convert to celsius\n",
    "ds=ds-273.15 #passage en celsius\n",
    "t2m = ds.t2m \n",
    "\n",
    "# copy attributes to get nice figure labels and change Kelvin to Celsius\n",
    "t2m.attrs = ds.t2m.attrs\n",
    "\n",
    "t2m.attrs[\"units\"] = \"deg C\""
   ]
  },
  {
   "cell_type": "code",
   "execution_count": 9,
   "metadata": {},
   "outputs": [
    {
     "output_type": "execute_result",
     "data": {
      "text/plain": [
       "<xarray.Dataset>\n",
       "Dimensions:            (valid_time: 85, x: 935, y: 824)\n",
       "Coordinates:\n",
       "    time               datetime64[ns] 2021-03-01T12:00:00\n",
       "    step               (valid_time) timedelta64[ns] 3 days 11:00:00 ... 1 day...\n",
       "    heightAboveGround  int64 2\n",
       "    latitude           (y, x) float64 dask.array<chunksize=(824, 935), meta=np.ndarray>\n",
       "    longitude          (y, x) float64 dask.array<chunksize=(824, 935), meta=np.ndarray>\n",
       "  * valid_time         (valid_time) datetime64[ns] 2021-03-04T23:00:00 ... 20...\n",
       "Dimensions without coordinates: x, y\n",
       "Data variables:\n",
       "    t2m                (valid_time, y, x) float32 dask.array<chunksize=(1, 824, 935), meta=np.ndarray>\n",
       "Attributes:\n",
       "    GRIB_edition:            2\n",
       "    GRIB_centre:             cwao\n",
       "    GRIB_centreDescription:  Canadian Meteorological Service - Montreal \n",
       "    GRIB_subCentre:          0\n",
       "    Conventions:             CF-1.7\n",
       "    institution:             Canadian Meteorological Service - Montreal \n",
       "    history:                 2021-03-01T12:46:57 GRIB to CDM+CF via cfgrib-0...."
      ],
      "text/html": "<div><svg style=\"position: absolute; width: 0; height: 0; overflow: hidden\">\n<defs>\n<symbol id=\"icon-database\" viewBox=\"0 0 32 32\">\n<path d=\"M16 0c-8.837 0-16 2.239-16 5v4c0 2.761 7.163 5 16 5s16-2.239 16-5v-4c0-2.761-7.163-5-16-5z\"></path>\n<path d=\"M16 17c-8.837 0-16-2.239-16-5v6c0 2.761 7.163 5 16 5s16-2.239 16-5v-6c0 2.761-7.163 5-16 5z\"></path>\n<path d=\"M16 26c-8.837 0-16-2.239-16-5v6c0 2.761 7.163 5 16 5s16-2.239 16-5v-6c0 2.761-7.163 5-16 5z\"></path>\n</symbol>\n<symbol id=\"icon-file-text2\" viewBox=\"0 0 32 32\">\n<path d=\"M28.681 7.159c-0.694-0.947-1.662-2.053-2.724-3.116s-2.169-2.030-3.116-2.724c-1.612-1.182-2.393-1.319-2.841-1.319h-15.5c-1.378 0-2.5 1.121-2.5 2.5v27c0 1.378 1.122 2.5 2.5 2.5h23c1.378 0 2.5-1.122 2.5-2.5v-19.5c0-0.448-0.137-1.23-1.319-2.841zM24.543 5.457c0.959 0.959 1.712 1.825 2.268 2.543h-4.811v-4.811c0.718 0.556 1.584 1.309 2.543 2.268zM28 29.5c0 0.271-0.229 0.5-0.5 0.5h-23c-0.271 0-0.5-0.229-0.5-0.5v-27c0-0.271 0.229-0.5 0.5-0.5 0 0 15.499-0 15.5 0v7c0 0.552 0.448 1 1 1h7v19.5z\"></path>\n<path d=\"M23 26h-14c-0.552 0-1-0.448-1-1s0.448-1 1-1h14c0.552 0 1 0.448 1 1s-0.448 1-1 1z\"></path>\n<path d=\"M23 22h-14c-0.552 0-1-0.448-1-1s0.448-1 1-1h14c0.552 0 1 0.448 1 1s-0.448 1-1 1z\"></path>\n<path d=\"M23 18h-14c-0.552 0-1-0.448-1-1s0.448-1 1-1h14c0.552 0 1 0.448 1 1s-0.448 1-1 1z\"></path>\n</symbol>\n</defs>\n</svg>\n<style>/* CSS stylesheet for displaying xarray objects in jupyterlab.\n *\n */\n\n:root {\n  --xr-font-color0: var(--jp-content-font-color0, rgba(0, 0, 0, 1));\n  --xr-font-color2: var(--jp-content-font-color2, rgba(0, 0, 0, 0.54));\n  --xr-font-color3: var(--jp-content-font-color3, rgba(0, 0, 0, 0.38));\n  --xr-border-color: var(--jp-border-color2, #e0e0e0);\n  --xr-disabled-color: var(--jp-layout-color3, #bdbdbd);\n  --xr-background-color: var(--jp-layout-color0, white);\n  --xr-background-color-row-even: var(--jp-layout-color1, white);\n  --xr-background-color-row-odd: var(--jp-layout-color2, #eeeeee);\n}\n\nhtml[theme=dark],\nbody.vscode-dark {\n  --xr-font-color0: rgba(255, 255, 255, 1);\n  --xr-font-color2: rgba(255, 255, 255, 0.54);\n  --xr-font-color3: rgba(255, 255, 255, 0.38);\n  --xr-border-color: #1F1F1F;\n  --xr-disabled-color: #515151;\n  --xr-background-color: #111111;\n  --xr-background-color-row-even: #111111;\n  --xr-background-color-row-odd: #313131;\n}\n\n.xr-wrap {\n  display: block;\n  min-width: 300px;\n  max-width: 700px;\n}\n\n.xr-text-repr-fallback {\n  /* fallback to plain text repr when CSS is not injected (untrusted notebook) */\n  display: none;\n}\n\n.xr-header {\n  padding-top: 6px;\n  padding-bottom: 6px;\n  margin-bottom: 4px;\n  border-bottom: solid 1px var(--xr-border-color);\n}\n\n.xr-header > div,\n.xr-header > ul {\n  display: inline;\n  margin-top: 0;\n  margin-bottom: 0;\n}\n\n.xr-obj-type,\n.xr-array-name {\n  margin-left: 2px;\n  margin-right: 10px;\n}\n\n.xr-obj-type {\n  color: var(--xr-font-color2);\n}\n\n.xr-sections {\n  padding-left: 0 !important;\n  display: grid;\n  grid-template-columns: 150px auto auto 1fr 20px 20px;\n}\n\n.xr-section-item {\n  display: contents;\n}\n\n.xr-section-item input {\n  display: none;\n}\n\n.xr-section-item input + label {\n  color: var(--xr-disabled-color);\n}\n\n.xr-section-item input:enabled + label {\n  cursor: pointer;\n  color: var(--xr-font-color2);\n}\n\n.xr-section-item input:enabled + label:hover {\n  color: var(--xr-font-color0);\n}\n\n.xr-section-summary {\n  grid-column: 1;\n  color: var(--xr-font-color2);\n  font-weight: 500;\n}\n\n.xr-section-summary > span {\n  display: inline-block;\n  padding-left: 0.5em;\n}\n\n.xr-section-summary-in:disabled + label {\n  color: var(--xr-font-color2);\n}\n\n.xr-section-summary-in + label:before {\n  display: inline-block;\n  content: '►';\n  font-size: 11px;\n  width: 15px;\n  text-align: center;\n}\n\n.xr-section-summary-in:disabled + label:before {\n  color: var(--xr-disabled-color);\n}\n\n.xr-section-summary-in:checked + label:before {\n  content: '▼';\n}\n\n.xr-section-summary-in:checked + label > span {\n  display: none;\n}\n\n.xr-section-summary,\n.xr-section-inline-details {\n  padding-top: 4px;\n  padding-bottom: 4px;\n}\n\n.xr-section-inline-details {\n  grid-column: 2 / -1;\n}\n\n.xr-section-details {\n  display: none;\n  grid-column: 1 / -1;\n  margin-bottom: 5px;\n}\n\n.xr-section-summary-in:checked ~ .xr-section-details {\n  display: contents;\n}\n\n.xr-array-wrap {\n  grid-column: 1 / -1;\n  display: grid;\n  grid-template-columns: 20px auto;\n}\n\n.xr-array-wrap > label {\n  grid-column: 1;\n  vertical-align: top;\n}\n\n.xr-preview {\n  color: var(--xr-font-color3);\n}\n\n.xr-array-preview,\n.xr-array-data {\n  padding: 0 5px !important;\n  grid-column: 2;\n}\n\n.xr-array-data,\n.xr-array-in:checked ~ .xr-array-preview {\n  display: none;\n}\n\n.xr-array-in:checked ~ .xr-array-data,\n.xr-array-preview {\n  display: inline-block;\n}\n\n.xr-dim-list {\n  display: inline-block !important;\n  list-style: none;\n  padding: 0 !important;\n  margin: 0;\n}\n\n.xr-dim-list li {\n  display: inline-block;\n  padding: 0;\n  margin: 0;\n}\n\n.xr-dim-list:before {\n  content: '(';\n}\n\n.xr-dim-list:after {\n  content: ')';\n}\n\n.xr-dim-list li:not(:last-child):after {\n  content: ',';\n  padding-right: 5px;\n}\n\n.xr-has-index {\n  font-weight: bold;\n}\n\n.xr-var-list,\n.xr-var-item {\n  display: contents;\n}\n\n.xr-var-item > div,\n.xr-var-item label,\n.xr-var-item > .xr-var-name span {\n  background-color: var(--xr-background-color-row-even);\n  margin-bottom: 0;\n}\n\n.xr-var-item > .xr-var-name:hover span {\n  padding-right: 5px;\n}\n\n.xr-var-list > li:nth-child(odd) > div,\n.xr-var-list > li:nth-child(odd) > label,\n.xr-var-list > li:nth-child(odd) > .xr-var-name span {\n  background-color: var(--xr-background-color-row-odd);\n}\n\n.xr-var-name {\n  grid-column: 1;\n}\n\n.xr-var-dims {\n  grid-column: 2;\n}\n\n.xr-var-dtype {\n  grid-column: 3;\n  text-align: right;\n  color: var(--xr-font-color2);\n}\n\n.xr-var-preview {\n  grid-column: 4;\n}\n\n.xr-var-name,\n.xr-var-dims,\n.xr-var-dtype,\n.xr-preview,\n.xr-attrs dt {\n  white-space: nowrap;\n  overflow: hidden;\n  text-overflow: ellipsis;\n  padding-right: 10px;\n}\n\n.xr-var-name:hover,\n.xr-var-dims:hover,\n.xr-var-dtype:hover,\n.xr-attrs dt:hover {\n  overflow: visible;\n  width: auto;\n  z-index: 1;\n}\n\n.xr-var-attrs,\n.xr-var-data {\n  display: none;\n  background-color: var(--xr-background-color) !important;\n  padding-bottom: 5px !important;\n}\n\n.xr-var-attrs-in:checked ~ .xr-var-attrs,\n.xr-var-data-in:checked ~ .xr-var-data {\n  display: block;\n}\n\n.xr-var-data > table {\n  float: right;\n}\n\n.xr-var-name span,\n.xr-var-data,\n.xr-attrs {\n  padding-left: 25px !important;\n}\n\n.xr-attrs,\n.xr-var-attrs,\n.xr-var-data {\n  grid-column: 1 / -1;\n}\n\ndl.xr-attrs {\n  padding: 0;\n  margin: 0;\n  display: grid;\n  grid-template-columns: 125px auto;\n}\n\n.xr-attrs dt,\n.xr-attrs dd {\n  padding: 0;\n  margin: 0;\n  float: left;\n  padding-right: 10px;\n  width: auto;\n}\n\n.xr-attrs dt {\n  font-weight: normal;\n  grid-column: 1;\n}\n\n.xr-attrs dt:hover span {\n  display: inline-block;\n  background: var(--xr-background-color);\n  padding-right: 10px;\n}\n\n.xr-attrs dd {\n  grid-column: 2;\n  white-space: pre-wrap;\n  word-break: break-all;\n}\n\n.xr-icon-database,\n.xr-icon-file-text2 {\n  display: inline-block;\n  vertical-align: middle;\n  width: 1em;\n  height: 1.5em !important;\n  stroke-width: 0;\n  stroke: currentColor;\n  fill: currentColor;\n}\n</style><pre class='xr-text-repr-fallback'>&lt;xarray.Dataset&gt;\nDimensions:            (valid_time: 85, x: 935, y: 824)\nCoordinates:\n    time               datetime64[ns] 2021-03-01T12:00:00\n    step               (valid_time) timedelta64[ns] 3 days 11:00:00 ... 1 day...\n    heightAboveGround  int64 2\n    latitude           (y, x) float64 dask.array&lt;chunksize=(824, 935), meta=np.ndarray&gt;\n    longitude          (y, x) float64 dask.array&lt;chunksize=(824, 935), meta=np.ndarray&gt;\n  * valid_time         (valid_time) datetime64[ns] 2021-03-04T23:00:00 ... 20...\nDimensions without coordinates: x, y\nData variables:\n    t2m                (valid_time, y, x) float32 dask.array&lt;chunksize=(1, 824, 935), meta=np.ndarray&gt;\nAttributes:\n    GRIB_edition:            2\n    GRIB_centre:             cwao\n    GRIB_centreDescription:  Canadian Meteorological Service - Montreal \n    GRIB_subCentre:          0\n    Conventions:             CF-1.7\n    institution:             Canadian Meteorological Service - Montreal \n    history:                 2021-03-01T12:46:57 GRIB to CDM+CF via cfgrib-0....</pre><div class='xr-wrap' hidden><div class='xr-header'><div class='xr-obj-type'>xarray.Dataset</div></div><ul class='xr-sections'><li class='xr-section-item'><input id='section-76987d2f-32f5-4c23-9bc7-ded20679d549' class='xr-section-summary-in' type='checkbox' disabled ><label for='section-76987d2f-32f5-4c23-9bc7-ded20679d549' class='xr-section-summary'  title='Expand/collapse section'>Dimensions:</label><div class='xr-section-inline-details'><ul class='xr-dim-list'><li><span class='xr-has-index'>valid_time</span>: 85</li><li><span>x</span>: 935</li><li><span>y</span>: 824</li></ul></div><div class='xr-section-details'></div></li><li class='xr-section-item'><input id='section-9652f401-ec07-4cbb-b07a-5249015697bc' class='xr-section-summary-in' type='checkbox'  checked><label for='section-9652f401-ec07-4cbb-b07a-5249015697bc' class='xr-section-summary' >Coordinates: <span>(6)</span></label><div class='xr-section-inline-details'></div><div class='xr-section-details'><ul class='xr-var-list'><li class='xr-var-item'><div class='xr-var-name'><span>time</span></div><div class='xr-var-dims'>()</div><div class='xr-var-dtype'>datetime64[ns]</div><div class='xr-var-preview xr-preview'>2021-03-01T12:00:00</div><input id='attrs-f61924fa-5dda-44da-9ce3-d826a8945439' class='xr-var-attrs-in' type='checkbox' ><label for='attrs-f61924fa-5dda-44da-9ce3-d826a8945439' title='Show/Hide attributes'><svg class='icon xr-icon-file-text2'><use xlink:href='#icon-file-text2'></use></svg></label><input id='data-6adb19b7-d2e7-433f-8789-36a6ee89aa42' class='xr-var-data-in' type='checkbox'><label for='data-6adb19b7-d2e7-433f-8789-36a6ee89aa42' title='Show/Hide data repr'><svg class='icon xr-icon-database'><use xlink:href='#icon-database'></use></svg></label><div class='xr-var-attrs'><dl class='xr-attrs'><dt><span>long_name :</span></dt><dd>initial time of forecast</dd><dt><span>standard_name :</span></dt><dd>forecast_reference_time</dd></dl></div><div class='xr-var-data'><pre>array(&#x27;2021-03-01T12:00:00.000000000&#x27;, dtype=&#x27;datetime64[ns]&#x27;)</pre></div></li><li class='xr-var-item'><div class='xr-var-name'><span>step</span></div><div class='xr-var-dims'>(valid_time)</div><div class='xr-var-dtype'>timedelta64[ns]</div><div class='xr-var-preview xr-preview'>3 days 11:00:00 ... 1 days 13:00:00</div><input id='attrs-1f35ca11-a81a-4149-934a-9ad457fe107d' class='xr-var-attrs-in' type='checkbox' ><label for='attrs-1f35ca11-a81a-4149-934a-9ad457fe107d' title='Show/Hide attributes'><svg class='icon xr-icon-file-text2'><use xlink:href='#icon-file-text2'></use></svg></label><input id='data-2200a4f4-cf66-4589-b8e8-05f703a3d294' class='xr-var-data-in' type='checkbox'><label for='data-2200a4f4-cf66-4589-b8e8-05f703a3d294' title='Show/Hide data repr'><svg class='icon xr-icon-database'><use xlink:href='#icon-database'></use></svg></label><div class='xr-var-attrs'><dl class='xr-attrs'><dt><span>long_name :</span></dt><dd>time since forecast_reference_time</dd><dt><span>standard_name :</span></dt><dd>forecast_period</dd></dl></div><div class='xr-var-data'><pre>array([298800000000000,  21600000000000, 154800000000000,  79200000000000,\n       241200000000000, 208800000000000,  72000000000000, 234000000000000,\n        14400000000000, 147600000000000, 291600000000000, 140400000000000,\n                     0, 162000000000000, 280800000000000,  68400000000000,\n        86400000000000, 219600000000000,  93600000000000, 226800000000000,\n         7200000000000, 169200000000000, 230400000000000,  75600000000000,\n       212400000000000, 288000000000000, 136800000000000, 144000000000000,\n        18000000000000, 151200000000000,  25200000000000, 295200000000000,\n       237600000000000,  82800000000000, 223200000000000,  97200000000000,\n       165600000000000,  10800000000000, 284400000000000, 302400000000000,\n       158400000000000,   3600000000000, 216000000000000,  90000000000000,\n        64800000000000,  50400000000000, 183600000000000, 104400000000000,\n       172800000000000, 108000000000000, 270000000000000, 115200000000000,\n       277200000000000,  57600000000000, 190800000000000,  43200000000000,\n       205200000000000, 129600000000000, 262800000000000,  32400000000000,\n       122400000000000, 255600000000000,  36000000000000, 198000000000000,\n       244800000000000, 273600000000000, 118800000000000, 187200000000000,\n        61200000000000, 100800000000000, 180000000000000,  54000000000000,\n       266400000000000, 111600000000000, 176400000000000, 252000000000000,\n       126000000000000,  28800000000000, 248400000000000, 194400000000000,\n        39600000000000, 201600000000000,  46800000000000, 259200000000000,\n       133200000000000], dtype=&#x27;timedelta64[ns]&#x27;)</pre></div></li><li class='xr-var-item'><div class='xr-var-name'><span>heightAboveGround</span></div><div class='xr-var-dims'>()</div><div class='xr-var-dtype'>int64</div><div class='xr-var-preview xr-preview'>2</div><input id='attrs-241dbbcf-f9e8-4719-ad22-4474d7ca5160' class='xr-var-attrs-in' type='checkbox' ><label for='attrs-241dbbcf-f9e8-4719-ad22-4474d7ca5160' title='Show/Hide attributes'><svg class='icon xr-icon-file-text2'><use xlink:href='#icon-file-text2'></use></svg></label><input id='data-d0c4caec-2fdb-49b5-8982-1b93a0b572c2' class='xr-var-data-in' type='checkbox'><label for='data-d0c4caec-2fdb-49b5-8982-1b93a0b572c2' title='Show/Hide data repr'><svg class='icon xr-icon-database'><use xlink:href='#icon-database'></use></svg></label><div class='xr-var-attrs'><dl class='xr-attrs'><dt><span>long_name :</span></dt><dd>height above the surface</dd><dt><span>units :</span></dt><dd>m</dd><dt><span>positive :</span></dt><dd>up</dd><dt><span>standard_name :</span></dt><dd>height</dd></dl></div><div class='xr-var-data'><pre>array(2)</pre></div></li><li class='xr-var-item'><div class='xr-var-name'><span>latitude</span></div><div class='xr-var-dims'>(y, x)</div><div class='xr-var-dtype'>float64</div><div class='xr-var-preview xr-preview'>dask.array&lt;chunksize=(824, 935), meta=np.ndarray&gt;</div><input id='attrs-5389ee6c-3cfe-4db9-999a-1340beb27c98' class='xr-var-attrs-in' type='checkbox' ><label for='attrs-5389ee6c-3cfe-4db9-999a-1340beb27c98' title='Show/Hide attributes'><svg class='icon xr-icon-file-text2'><use xlink:href='#icon-file-text2'></use></svg></label><input id='data-86c3c8ba-4fa3-4a25-b23a-d226fab2a1a8' class='xr-var-data-in' type='checkbox'><label for='data-86c3c8ba-4fa3-4a25-b23a-d226fab2a1a8' title='Show/Hide data repr'><svg class='icon xr-icon-database'><use xlink:href='#icon-database'></use></svg></label><div class='xr-var-attrs'><dl class='xr-attrs'><dt><span>units :</span></dt><dd>degrees_north</dd><dt><span>standard_name :</span></dt><dd>latitude</dd><dt><span>long_name :</span></dt><dd>latitude</dd></dl></div><div class='xr-var-data'><table>\n<tr>\n<td>\n<table>\n  <thead>\n    <tr><td> </td><th> Array </th><th> Chunk </th></tr>\n  </thead>\n  <tbody>\n    <tr><th> Bytes </th><td> 6.16 MB </td> <td> 6.16 MB </td></tr>\n    <tr><th> Shape </th><td> (824, 935) </td> <td> (824, 935) </td></tr>\n    <tr><th> Count </th><td> 420 Tasks </td><td> 1 Chunks </td></tr>\n    <tr><th> Type </th><td> float64 </td><td> numpy.ndarray </td></tr>\n  </tbody>\n</table>\n</td>\n<td>\n<svg width=\"170\" height=\"155\" style=\"stroke:rgb(0,0,0);stroke-width:1\" >\n\n  <!-- Horizontal lines -->\n  <line x1=\"0\" y1=\"0\" x2=\"120\" y2=\"0\" style=\"stroke-width:2\" />\n  <line x1=\"0\" y1=\"105\" x2=\"120\" y2=\"105\" style=\"stroke-width:2\" />\n\n  <!-- Vertical lines -->\n  <line x1=\"0\" y1=\"0\" x2=\"0\" y2=\"105\" style=\"stroke-width:2\" />\n  <line x1=\"120\" y1=\"0\" x2=\"120\" y2=\"105\" style=\"stroke-width:2\" />\n\n  <!-- Colored Rectangle -->\n  <polygon points=\"0.0,0.0 120.0,0.0 120.0,105.75401069518716 0.0,105.75401069518716\" style=\"fill:#ECB172A0;stroke-width:0\"/>\n\n  <!-- Text -->\n  <text x=\"60.000000\" y=\"125.754011\" font-size=\"1.0rem\" font-weight=\"100\" text-anchor=\"middle\" >935</text>\n  <text x=\"140.000000\" y=\"52.877005\" font-size=\"1.0rem\" font-weight=\"100\" text-anchor=\"middle\" transform=\"rotate(-90,140.000000,52.877005)\">824</text>\n</svg>\n</td>\n</tr>\n</table></div></li><li class='xr-var-item'><div class='xr-var-name'><span>longitude</span></div><div class='xr-var-dims'>(y, x)</div><div class='xr-var-dtype'>float64</div><div class='xr-var-preview xr-preview'>dask.array&lt;chunksize=(824, 935), meta=np.ndarray&gt;</div><input id='attrs-358b704c-29d2-464c-b1a2-084a88459986' class='xr-var-attrs-in' type='checkbox' ><label for='attrs-358b704c-29d2-464c-b1a2-084a88459986' title='Show/Hide attributes'><svg class='icon xr-icon-file-text2'><use xlink:href='#icon-file-text2'></use></svg></label><input id='data-528b23b3-8ed1-49dc-9736-998bc32b977b' class='xr-var-data-in' type='checkbox'><label for='data-528b23b3-8ed1-49dc-9736-998bc32b977b' title='Show/Hide data repr'><svg class='icon xr-icon-database'><use xlink:href='#icon-database'></use></svg></label><div class='xr-var-attrs'><dl class='xr-attrs'><dt><span>units :</span></dt><dd>degrees_east</dd><dt><span>standard_name :</span></dt><dd>longitude</dd><dt><span>long_name :</span></dt><dd>longitude</dd></dl></div><div class='xr-var-data'><table>\n<tr>\n<td>\n<table>\n  <thead>\n    <tr><td> </td><th> Array </th><th> Chunk </th></tr>\n  </thead>\n  <tbody>\n    <tr><th> Bytes </th><td> 6.16 MB </td> <td> 6.16 MB </td></tr>\n    <tr><th> Shape </th><td> (824, 935) </td> <td> (824, 935) </td></tr>\n    <tr><th> Count </th><td> 420 Tasks </td><td> 1 Chunks </td></tr>\n    <tr><th> Type </th><td> float64 </td><td> numpy.ndarray </td></tr>\n  </tbody>\n</table>\n</td>\n<td>\n<svg width=\"170\" height=\"155\" style=\"stroke:rgb(0,0,0);stroke-width:1\" >\n\n  <!-- Horizontal lines -->\n  <line x1=\"0\" y1=\"0\" x2=\"120\" y2=\"0\" style=\"stroke-width:2\" />\n  <line x1=\"0\" y1=\"105\" x2=\"120\" y2=\"105\" style=\"stroke-width:2\" />\n\n  <!-- Vertical lines -->\n  <line x1=\"0\" y1=\"0\" x2=\"0\" y2=\"105\" style=\"stroke-width:2\" />\n  <line x1=\"120\" y1=\"0\" x2=\"120\" y2=\"105\" style=\"stroke-width:2\" />\n\n  <!-- Colored Rectangle -->\n  <polygon points=\"0.0,0.0 120.0,0.0 120.0,105.75401069518716 0.0,105.75401069518716\" style=\"fill:#ECB172A0;stroke-width:0\"/>\n\n  <!-- Text -->\n  <text x=\"60.000000\" y=\"125.754011\" font-size=\"1.0rem\" font-weight=\"100\" text-anchor=\"middle\" >935</text>\n  <text x=\"140.000000\" y=\"52.877005\" font-size=\"1.0rem\" font-weight=\"100\" text-anchor=\"middle\" transform=\"rotate(-90,140.000000,52.877005)\">824</text>\n</svg>\n</td>\n</tr>\n</table></div></li><li class='xr-var-item'><div class='xr-var-name'><span class='xr-has-index'>valid_time</span></div><div class='xr-var-dims'>(valid_time)</div><div class='xr-var-dtype'>datetime64[ns]</div><div class='xr-var-preview xr-preview'>2021-03-04T23:00:00 ... 2021-03-...</div><input id='attrs-e41efaca-9e4c-4d7a-8abb-9b5a0d5eb33f' class='xr-var-attrs-in' type='checkbox' ><label for='attrs-e41efaca-9e4c-4d7a-8abb-9b5a0d5eb33f' title='Show/Hide attributes'><svg class='icon xr-icon-file-text2'><use xlink:href='#icon-file-text2'></use></svg></label><input id='data-32d50a84-6e88-44f0-b0c7-d39a5f8053a5' class='xr-var-data-in' type='checkbox'><label for='data-32d50a84-6e88-44f0-b0c7-d39a5f8053a5' title='Show/Hide data repr'><svg class='icon xr-icon-database'><use xlink:href='#icon-database'></use></svg></label><div class='xr-var-attrs'><dl class='xr-attrs'><dt><span>standard_name :</span></dt><dd>time</dd><dt><span>long_name :</span></dt><dd>time</dd></dl></div><div class='xr-var-data'><pre>array([&#x27;2021-03-04T23:00:00.000000000&#x27;, &#x27;2021-03-01T18:00:00.000000000&#x27;,\n       &#x27;2021-03-03T07:00:00.000000000&#x27;, &#x27;2021-03-02T10:00:00.000000000&#x27;,\n       &#x27;2021-03-04T07:00:00.000000000&#x27;, &#x27;2021-03-03T22:00:00.000000000&#x27;,\n       &#x27;2021-03-02T08:00:00.000000000&#x27;, &#x27;2021-03-04T05:00:00.000000000&#x27;,\n       &#x27;2021-03-01T16:00:00.000000000&#x27;, &#x27;2021-03-03T05:00:00.000000000&#x27;,\n       &#x27;2021-03-04T21:00:00.000000000&#x27;, &#x27;2021-03-03T03:00:00.000000000&#x27;,\n       &#x27;2021-03-01T12:00:00.000000000&#x27;, &#x27;2021-03-03T09:00:00.000000000&#x27;,\n       &#x27;2021-03-04T18:00:00.000000000&#x27;, &#x27;2021-03-02T07:00:00.000000000&#x27;,\n       &#x27;2021-03-02T12:00:00.000000000&#x27;, &#x27;2021-03-04T01:00:00.000000000&#x27;,\n       &#x27;2021-03-02T14:00:00.000000000&#x27;, &#x27;2021-03-04T03:00:00.000000000&#x27;,\n       &#x27;2021-03-01T14:00:00.000000000&#x27;, &#x27;2021-03-03T11:00:00.000000000&#x27;,\n       &#x27;2021-03-04T04:00:00.000000000&#x27;, &#x27;2021-03-02T09:00:00.000000000&#x27;,\n       &#x27;2021-03-03T23:00:00.000000000&#x27;, &#x27;2021-03-04T20:00:00.000000000&#x27;,\n       &#x27;2021-03-03T02:00:00.000000000&#x27;, &#x27;2021-03-03T04:00:00.000000000&#x27;,\n       &#x27;2021-03-01T17:00:00.000000000&#x27;, &#x27;2021-03-03T06:00:00.000000000&#x27;,\n       &#x27;2021-03-01T19:00:00.000000000&#x27;, &#x27;2021-03-04T22:00:00.000000000&#x27;,\n       &#x27;2021-03-04T06:00:00.000000000&#x27;, &#x27;2021-03-02T11:00:00.000000000&#x27;,\n       &#x27;2021-03-04T02:00:00.000000000&#x27;, &#x27;2021-03-02T15:00:00.000000000&#x27;,\n       &#x27;2021-03-03T10:00:00.000000000&#x27;, &#x27;2021-03-01T15:00:00.000000000&#x27;,\n       &#x27;2021-03-04T19:00:00.000000000&#x27;, &#x27;2021-03-05T00:00:00.000000000&#x27;,\n       &#x27;2021-03-03T08:00:00.000000000&#x27;, &#x27;2021-03-01T13:00:00.000000000&#x27;,\n       &#x27;2021-03-04T00:00:00.000000000&#x27;, &#x27;2021-03-02T13:00:00.000000000&#x27;,\n       &#x27;2021-03-02T06:00:00.000000000&#x27;, &#x27;2021-03-02T02:00:00.000000000&#x27;,\n       &#x27;2021-03-03T15:00:00.000000000&#x27;, &#x27;2021-03-02T17:00:00.000000000&#x27;,\n       &#x27;2021-03-03T12:00:00.000000000&#x27;, &#x27;2021-03-02T18:00:00.000000000&#x27;,\n       &#x27;2021-03-04T15:00:00.000000000&#x27;, &#x27;2021-03-02T20:00:00.000000000&#x27;,\n       &#x27;2021-03-04T17:00:00.000000000&#x27;, &#x27;2021-03-02T04:00:00.000000000&#x27;,\n       &#x27;2021-03-03T17:00:00.000000000&#x27;, &#x27;2021-03-02T00:00:00.000000000&#x27;,\n       &#x27;2021-03-03T21:00:00.000000000&#x27;, &#x27;2021-03-03T00:00:00.000000000&#x27;,\n       &#x27;2021-03-04T13:00:00.000000000&#x27;, &#x27;2021-03-01T21:00:00.000000000&#x27;,\n       &#x27;2021-03-02T22:00:00.000000000&#x27;, &#x27;2021-03-04T11:00:00.000000000&#x27;,\n       &#x27;2021-03-01T22:00:00.000000000&#x27;, &#x27;2021-03-03T19:00:00.000000000&#x27;,\n       &#x27;2021-03-04T08:00:00.000000000&#x27;, &#x27;2021-03-04T16:00:00.000000000&#x27;,\n       &#x27;2021-03-02T21:00:00.000000000&#x27;, &#x27;2021-03-03T16:00:00.000000000&#x27;,\n       &#x27;2021-03-02T05:00:00.000000000&#x27;, &#x27;2021-03-02T16:00:00.000000000&#x27;,\n       &#x27;2021-03-03T14:00:00.000000000&#x27;, &#x27;2021-03-02T03:00:00.000000000&#x27;,\n       &#x27;2021-03-04T14:00:00.000000000&#x27;, &#x27;2021-03-02T19:00:00.000000000&#x27;,\n       &#x27;2021-03-03T13:00:00.000000000&#x27;, &#x27;2021-03-04T10:00:00.000000000&#x27;,\n       &#x27;2021-03-02T23:00:00.000000000&#x27;, &#x27;2021-03-01T20:00:00.000000000&#x27;,\n       &#x27;2021-03-04T09:00:00.000000000&#x27;, &#x27;2021-03-03T18:00:00.000000000&#x27;,\n       &#x27;2021-03-01T23:00:00.000000000&#x27;, &#x27;2021-03-03T20:00:00.000000000&#x27;,\n       &#x27;2021-03-02T01:00:00.000000000&#x27;, &#x27;2021-03-04T12:00:00.000000000&#x27;,\n       &#x27;2021-03-03T01:00:00.000000000&#x27;], dtype=&#x27;datetime64[ns]&#x27;)</pre></div></li></ul></div></li><li class='xr-section-item'><input id='section-61502074-3759-4b1e-850b-f52610dd5d60' class='xr-section-summary-in' type='checkbox'  checked><label for='section-61502074-3759-4b1e-850b-f52610dd5d60' class='xr-section-summary' >Data variables: <span>(1)</span></label><div class='xr-section-inline-details'></div><div class='xr-section-details'><ul class='xr-var-list'><li class='xr-var-item'><div class='xr-var-name'><span>t2m</span></div><div class='xr-var-dims'>(valid_time, y, x)</div><div class='xr-var-dtype'>float32</div><div class='xr-var-preview xr-preview'>dask.array&lt;chunksize=(1, 824, 935), meta=np.ndarray&gt;</div><input id='attrs-68ad283f-96c0-4d4b-b3d7-13e2241a45d9' class='xr-var-attrs-in' type='checkbox' ><label for='attrs-68ad283f-96c0-4d4b-b3d7-13e2241a45d9' title='Show/Hide attributes'><svg class='icon xr-icon-file-text2'><use xlink:href='#icon-file-text2'></use></svg></label><input id='data-8033a824-3012-441d-adb8-b5f31d6b07ab' class='xr-var-data-in' type='checkbox'><label for='data-8033a824-3012-441d-adb8-b5f31d6b07ab' title='Show/Hide data repr'><svg class='icon xr-icon-database'><use xlink:href='#icon-database'></use></svg></label><div class='xr-var-attrs'><dl class='xr-attrs'><dt><span>units :</span></dt><dd>deg C</dd></dl></div><div class='xr-var-data'><table>\n<tr>\n<td>\n<table>\n  <thead>\n    <tr><td> </td><th> Array </th><th> Chunk </th></tr>\n  </thead>\n  <tbody>\n    <tr><th> Bytes </th><td> 261.95 MB </td> <td> 3.08 MB </td></tr>\n    <tr><th> Shape </th><td> (85, 824, 935) </td> <td> (1, 824, 935) </td></tr>\n    <tr><th> Count </th><td> 425 Tasks </td><td> 85 Chunks </td></tr>\n    <tr><th> Type </th><td> float32 </td><td> numpy.ndarray </td></tr>\n  </tbody>\n</table>\n</td>\n<td>\n<svg width=\"202\" height=\"178\" style=\"stroke:rgb(0,0,0);stroke-width:1\" >\n\n  <!-- Horizontal lines -->\n  <line x1=\"10\" y1=\"0\" x2=\"32\" y2=\"22\" style=\"stroke-width:2\" />\n  <line x1=\"10\" y1=\"105\" x2=\"32\" y2=\"128\" style=\"stroke-width:2\" />\n\n  <!-- Vertical lines -->\n  <line x1=\"10\" y1=\"0\" x2=\"10\" y2=\"105\" style=\"stroke-width:2\" />\n  <line x1=\"11\" y1=\"1\" x2=\"11\" y2=\"106\" />\n  <line x1=\"12\" y1=\"2\" x2=\"12\" y2=\"107\" />\n  <line x1=\"13\" y1=\"3\" x2=\"13\" y2=\"109\" />\n  <line x1=\"14\" y1=\"4\" x2=\"14\" y2=\"110\" />\n  <line x1=\"15\" y1=\"5\" x2=\"15\" y2=\"111\" />\n  <line x1=\"16\" y1=\"6\" x2=\"16\" y2=\"112\" />\n  <line x1=\"18\" y1=\"8\" x2=\"18\" y2=\"113\" />\n  <line x1=\"19\" y1=\"9\" x2=\"19\" y2=\"114\" />\n  <line x1=\"20\" y1=\"10\" x2=\"20\" y2=\"116\" />\n  <line x1=\"21\" y1=\"11\" x2=\"21\" y2=\"117\" />\n  <line x1=\"22\" y1=\"12\" x2=\"22\" y2=\"118\" />\n  <line x1=\"23\" y1=\"13\" x2=\"23\" y2=\"119\" />\n  <line x1=\"25\" y1=\"15\" x2=\"25\" y2=\"121\" />\n  <line x1=\"26\" y1=\"16\" x2=\"26\" y2=\"122\" />\n  <line x1=\"27\" y1=\"17\" x2=\"27\" y2=\"123\" />\n  <line x1=\"28\" y1=\"18\" x2=\"28\" y2=\"124\" />\n  <line x1=\"30\" y1=\"20\" x2=\"30\" y2=\"125\" />\n  <line x1=\"31\" y1=\"21\" x2=\"31\" y2=\"126\" />\n  <line x1=\"32\" y1=\"22\" x2=\"32\" y2=\"128\" style=\"stroke-width:2\" />\n\n  <!-- Colored Rectangle -->\n  <polygon points=\"10.0,0.0 32.38951653211883,22.389516532118837 32.38951653211883,128.143527227306 10.0,105.75401069518716\" style=\"fill:#8B4903A0;stroke-width:0\"/>\n\n  <!-- Horizontal lines -->\n  <line x1=\"10\" y1=\"0\" x2=\"130\" y2=\"0\" style=\"stroke-width:2\" />\n  <line x1=\"11\" y1=\"1\" x2=\"131\" y2=\"1\" />\n  <line x1=\"12\" y1=\"2\" x2=\"132\" y2=\"2\" />\n  <line x1=\"13\" y1=\"3\" x2=\"133\" y2=\"3\" />\n  <line x1=\"14\" y1=\"4\" x2=\"134\" y2=\"4\" />\n  <line x1=\"15\" y1=\"5\" x2=\"135\" y2=\"5\" />\n  <line x1=\"16\" y1=\"6\" x2=\"136\" y2=\"6\" />\n  <line x1=\"18\" y1=\"8\" x2=\"138\" y2=\"8\" />\n  <line x1=\"19\" y1=\"9\" x2=\"139\" y2=\"9\" />\n  <line x1=\"20\" y1=\"10\" x2=\"140\" y2=\"10\" />\n  <line x1=\"21\" y1=\"11\" x2=\"141\" y2=\"11\" />\n  <line x1=\"22\" y1=\"12\" x2=\"142\" y2=\"12\" />\n  <line x1=\"23\" y1=\"13\" x2=\"143\" y2=\"13\" />\n  <line x1=\"25\" y1=\"15\" x2=\"145\" y2=\"15\" />\n  <line x1=\"26\" y1=\"16\" x2=\"146\" y2=\"16\" />\n  <line x1=\"27\" y1=\"17\" x2=\"147\" y2=\"17\" />\n  <line x1=\"28\" y1=\"18\" x2=\"148\" y2=\"18\" />\n  <line x1=\"30\" y1=\"20\" x2=\"150\" y2=\"20\" />\n  <line x1=\"31\" y1=\"21\" x2=\"151\" y2=\"21\" />\n  <line x1=\"32\" y1=\"22\" x2=\"152\" y2=\"22\" style=\"stroke-width:2\" />\n\n  <!-- Vertical lines -->\n  <line x1=\"10\" y1=\"0\" x2=\"32\" y2=\"22\" style=\"stroke-width:2\" />\n  <line x1=\"130\" y1=\"0\" x2=\"152\" y2=\"22\" style=\"stroke-width:2\" />\n\n  <!-- Colored Rectangle -->\n  <polygon points=\"10.0,0.0 130.0,0.0 152.38951653211885,22.389516532118837 32.38951653211883,22.389516532118837\" style=\"fill:#8B4903A0;stroke-width:0\"/>\n\n  <!-- Horizontal lines -->\n  <line x1=\"32\" y1=\"22\" x2=\"152\" y2=\"22\" style=\"stroke-width:2\" />\n  <line x1=\"32\" y1=\"128\" x2=\"152\" y2=\"128\" style=\"stroke-width:2\" />\n\n  <!-- Vertical lines -->\n  <line x1=\"32\" y1=\"22\" x2=\"32\" y2=\"128\" style=\"stroke-width:2\" />\n  <line x1=\"152\" y1=\"22\" x2=\"152\" y2=\"128\" style=\"stroke-width:2\" />\n\n  <!-- Colored Rectangle -->\n  <polygon points=\"32.38951653211883,22.389516532118837 152.38951653211882,22.389516532118837 152.38951653211882,128.143527227306 32.38951653211883,128.143527227306\" style=\"fill:#ECB172A0;stroke-width:0\"/>\n\n  <!-- Text -->\n  <text x=\"92.389517\" y=\"148.143527\" font-size=\"1.0rem\" font-weight=\"100\" text-anchor=\"middle\" >935</text>\n  <text x=\"172.389517\" y=\"75.266522\" font-size=\"1.0rem\" font-weight=\"100\" text-anchor=\"middle\" transform=\"rotate(-90,172.389517,75.266522)\">824</text>\n  <text x=\"11.194758\" y=\"136.948769\" font-size=\"1.0rem\" font-weight=\"100\" text-anchor=\"middle\" transform=\"rotate(45,11.194758,136.948769)\">85</text>\n</svg>\n</td>\n</tr>\n</table></div></li></ul></div></li><li class='xr-section-item'><input id='section-40c56fe9-f0f3-4193-996c-d70cdffe697b' class='xr-section-summary-in' type='checkbox'  checked><label for='section-40c56fe9-f0f3-4193-996c-d70cdffe697b' class='xr-section-summary' >Attributes: <span>(7)</span></label><div class='xr-section-inline-details'></div><div class='xr-section-details'><dl class='xr-attrs'><dt><span>GRIB_edition :</span></dt><dd>2</dd><dt><span>GRIB_centre :</span></dt><dd>cwao</dd><dt><span>GRIB_centreDescription :</span></dt><dd>Canadian Meteorological Service - Montreal </dd><dt><span>GRIB_subCentre :</span></dt><dd>0</dd><dt><span>Conventions :</span></dt><dd>CF-1.7</dd><dt><span>institution :</span></dt><dd>Canadian Meteorological Service - Montreal </dd><dt><span>history :</span></dt><dd>2021-03-01T12:46:57 GRIB to CDM+CF via cfgrib-0.9.8.5/ecCodes-2.15.0 with {&quot;source&quot;: &quot;/Users/caramelo/Documents/0000_Unu_Engineering/wasabi_cloud_storage/gem/TMP/CMC_reg_TMP_TGL_2_ps10km_2021030112_P083.grib2&quot;, &quot;filter_by_keys&quot;: {}, &quot;encode_cf&quot;: [&quot;parameter&quot;, &quot;time&quot;, &quot;geography&quot;, &quot;vertical&quot;]}</dd></dl></div></li></ul></div></div>"
     },
     "metadata": {},
     "execution_count": 9
    }
   ],
   "source": [
    "ds"
   ]
  },
  {
   "cell_type": "code",
   "execution_count": 7,
   "metadata": {},
   "outputs": [],
   "source": [
    "min_lon=-90\n",
    "min_lat=40\n",
    "max_lon=-55\n",
    "max_lat=75\n",
    "\n",
    "mask_lon= (ds.longitude >=min_lon) & (ds.longitude <=max_lon)\n",
    "mask_lat= (ds.latitude >=min_lat) & (ds.latitude <=max_lat)\n",
    "\n",
    "cropped_ds = ds.where(mask_lon & mask_lat, drop=True)\n",
    "cropped_ds"
   ]
  },
  {
   "cell_type": "code",
   "execution_count": 10,
   "metadata": {},
   "outputs": [
    {
     "output_type": "error",
     "ename": "IndexError",
     "evalue": "index -1 is out of bounds for axis 0 with size 0",
     "traceback": [
      "\u001b[0;31m---------------------------------------------------------------------------\u001b[0m",
      "\u001b[0;31mIndexError\u001b[0m                                Traceback (most recent call last)",
      "\u001b[0;32m<ipython-input-10-d455ca6fbb8a>\u001b[0m in \u001b[0;36m<module>\u001b[0;34m\u001b[0m\n\u001b[1;32m      2\u001b[0m \u001b[0;34m\u001b[0m\u001b[0m\n\u001b[1;32m      3\u001b[0m \u001b[0mcountries\u001b[0m\u001b[0;34m=\u001b[0m\u001b[0mgpd\u001b[0m\u001b[0;34m.\u001b[0m\u001b[0mread_file\u001b[0m\u001b[0;34m(\u001b[0m\u001b[0mgpd\u001b[0m\u001b[0;34m.\u001b[0m\u001b[0mdatasets\u001b[0m\u001b[0;34m.\u001b[0m\u001b[0mget_path\u001b[0m\u001b[0;34m(\u001b[0m\u001b[0;34m'naturalearth_lowres'\u001b[0m\u001b[0;34m)\u001b[0m\u001b[0;34m)\u001b[0m\u001b[0;34m\u001b[0m\u001b[0;34m\u001b[0m\u001b[0m\n\u001b[0;32m----> 4\u001b[0;31m \u001b[0mcropped_ds\u001b[0m\u001b[0;34m.\u001b[0m\u001b[0mt2m\u001b[0m\u001b[0;34m.\u001b[0m\u001b[0misel\u001b[0m\u001b[0;34m(\u001b[0m\u001b[0mvalid_time\u001b[0m\u001b[0;34m=\u001b[0m\u001b[0;36m1\u001b[0m\u001b[0;34m)\u001b[0m\u001b[0;34m.\u001b[0m\u001b[0mplot\u001b[0m\u001b[0;34m(\u001b[0m\u001b[0max\u001b[0m\u001b[0;34m=\u001b[0m\u001b[0max\u001b[0m\u001b[0;34m)\u001b[0m\u001b[0;34m\u001b[0m\u001b[0;34m\u001b[0m\u001b[0m\n\u001b[0m\u001b[1;32m      5\u001b[0m \u001b[0mcountries\u001b[0m\u001b[0;34m.\u001b[0m\u001b[0mplot\u001b[0m\u001b[0;34m(\u001b[0m\u001b[0max\u001b[0m\u001b[0;34m=\u001b[0m\u001b[0max\u001b[0m\u001b[0;34m,\u001b[0m\u001b[0mfacecolor\u001b[0m\u001b[0;34m=\u001b[0m\u001b[0;34m'none'\u001b[0m\u001b[0;34m,\u001b[0m\u001b[0medgecolor\u001b[0m\u001b[0;34m=\u001b[0m\u001b[0;34m'red'\u001b[0m\u001b[0;34m)\u001b[0m\u001b[0;34m\u001b[0m\u001b[0;34m\u001b[0m\u001b[0m\n",
      "\u001b[0;32m~/.pyenv/versions/3.7.3/lib/python3.7/site-packages/xarray/plot/plot.py\u001b[0m in \u001b[0;36m__call__\u001b[0;34m(self, **kwargs)\u001b[0m\n\u001b[1;32m    442\u001b[0m \u001b[0;34m\u001b[0m\u001b[0m\n\u001b[1;32m    443\u001b[0m     \u001b[0;32mdef\u001b[0m \u001b[0m__call__\u001b[0m\u001b[0;34m(\u001b[0m\u001b[0mself\u001b[0m\u001b[0;34m,\u001b[0m \u001b[0;34m**\u001b[0m\u001b[0mkwargs\u001b[0m\u001b[0;34m)\u001b[0m\u001b[0;34m:\u001b[0m\u001b[0;34m\u001b[0m\u001b[0;34m\u001b[0m\u001b[0m\n\u001b[0;32m--> 444\u001b[0;31m         \u001b[0;32mreturn\u001b[0m \u001b[0mplot\u001b[0m\u001b[0;34m(\u001b[0m\u001b[0mself\u001b[0m\u001b[0;34m.\u001b[0m\u001b[0m_da\u001b[0m\u001b[0;34m,\u001b[0m \u001b[0;34m**\u001b[0m\u001b[0mkwargs\u001b[0m\u001b[0;34m)\u001b[0m\u001b[0;34m\u001b[0m\u001b[0;34m\u001b[0m\u001b[0m\n\u001b[0m\u001b[1;32m    445\u001b[0m \u001b[0;34m\u001b[0m\u001b[0m\n\u001b[1;32m    446\u001b[0m     \u001b[0;31m# we can't use functools.wraps here since that also modifies the name / qualname\u001b[0m\u001b[0;34m\u001b[0m\u001b[0;34m\u001b[0m\u001b[0;34m\u001b[0m\u001b[0m\n",
      "\u001b[0;32m~/.pyenv/versions/3.7.3/lib/python3.7/site-packages/xarray/plot/plot.py\u001b[0m in \u001b[0;36mplot\u001b[0;34m(darray, row, col, col_wrap, ax, hue, rtol, subplot_kws, **kwargs)\u001b[0m\n\u001b[1;32m    195\u001b[0m     \u001b[0mkwargs\u001b[0m\u001b[0;34m[\u001b[0m\u001b[0;34m\"ax\"\u001b[0m\u001b[0;34m]\u001b[0m \u001b[0;34m=\u001b[0m \u001b[0max\u001b[0m\u001b[0;34m\u001b[0m\u001b[0;34m\u001b[0m\u001b[0m\n\u001b[1;32m    196\u001b[0m \u001b[0;34m\u001b[0m\u001b[0m\n\u001b[0;32m--> 197\u001b[0;31m     \u001b[0;32mreturn\u001b[0m \u001b[0mplotfunc\u001b[0m\u001b[0;34m(\u001b[0m\u001b[0mdarray\u001b[0m\u001b[0;34m,\u001b[0m \u001b[0;34m**\u001b[0m\u001b[0mkwargs\u001b[0m\u001b[0;34m)\u001b[0m\u001b[0;34m\u001b[0m\u001b[0;34m\u001b[0m\u001b[0m\n\u001b[0m\u001b[1;32m    198\u001b[0m \u001b[0;34m\u001b[0m\u001b[0m\n\u001b[1;32m    199\u001b[0m \u001b[0;34m\u001b[0m\u001b[0m\n",
      "\u001b[0;32m~/.pyenv/versions/3.7.3/lib/python3.7/site-packages/xarray/plot/plot.py\u001b[0m in \u001b[0;36mnewplotfunc\u001b[0;34m(darray, x, y, figsize, size, aspect, ax, row, col, col_wrap, xincrease, yincrease, add_colorbar, add_labels, vmin, vmax, cmap, center, robust, extend, levels, infer_intervals, colors, subplot_kws, cbar_ax, cbar_kwargs, xscale, yscale, xticks, yticks, xlim, ylim, norm, **kwargs)\u001b[0m\n\u001b[1;32m    709\u001b[0m \u001b[0;34m\u001b[0m\u001b[0m\n\u001b[1;32m    710\u001b[0m         \u001b[0;31m# Replace pd.Intervals if contained in xval or yval.\u001b[0m\u001b[0;34m\u001b[0m\u001b[0;34m\u001b[0m\u001b[0;34m\u001b[0m\u001b[0m\n\u001b[0;32m--> 711\u001b[0;31m         \u001b[0mxplt\u001b[0m\u001b[0;34m,\u001b[0m \u001b[0mxlab_extra\u001b[0m \u001b[0;34m=\u001b[0m \u001b[0m_resolve_intervals_2dplot\u001b[0m\u001b[0;34m(\u001b[0m\u001b[0mxval\u001b[0m\u001b[0;34m,\u001b[0m \u001b[0mplotfunc\u001b[0m\u001b[0;34m.\u001b[0m\u001b[0m__name__\u001b[0m\u001b[0;34m)\u001b[0m\u001b[0;34m\u001b[0m\u001b[0;34m\u001b[0m\u001b[0m\n\u001b[0m\u001b[1;32m    712\u001b[0m         \u001b[0myplt\u001b[0m\u001b[0;34m,\u001b[0m \u001b[0mylab_extra\u001b[0m \u001b[0;34m=\u001b[0m \u001b[0m_resolve_intervals_2dplot\u001b[0m\u001b[0;34m(\u001b[0m\u001b[0myval\u001b[0m\u001b[0;34m,\u001b[0m \u001b[0mplotfunc\u001b[0m\u001b[0;34m.\u001b[0m\u001b[0m__name__\u001b[0m\u001b[0;34m)\u001b[0m\u001b[0;34m\u001b[0m\u001b[0;34m\u001b[0m\u001b[0m\n\u001b[1;32m    713\u001b[0m \u001b[0;34m\u001b[0m\u001b[0m\n",
      "\u001b[0;32m~/.pyenv/versions/3.7.3/lib/python3.7/site-packages/xarray/plot/utils.py\u001b[0m in \u001b[0;36m_resolve_intervals_2dplot\u001b[0;34m(val, func_name)\u001b[0m\n\u001b[1;32m    557\u001b[0m     \u001b[0;32mif\u001b[0m \u001b[0m_valid_other_type\u001b[0m\u001b[0;34m(\u001b[0m\u001b[0mval\u001b[0m\u001b[0;34m,\u001b[0m \u001b[0;34m[\u001b[0m\u001b[0mpd\u001b[0m\u001b[0;34m.\u001b[0m\u001b[0mInterval\u001b[0m\u001b[0;34m]\u001b[0m\u001b[0;34m)\u001b[0m\u001b[0;34m:\u001b[0m\u001b[0;34m\u001b[0m\u001b[0;34m\u001b[0m\u001b[0m\n\u001b[1;32m    558\u001b[0m         \u001b[0;32mif\u001b[0m \u001b[0mfunc_name\u001b[0m \u001b[0;34m==\u001b[0m \u001b[0;34m\"pcolormesh\"\u001b[0m\u001b[0;34m:\u001b[0m\u001b[0;34m\u001b[0m\u001b[0;34m\u001b[0m\u001b[0m\n\u001b[0;32m--> 559\u001b[0;31m             \u001b[0mval\u001b[0m \u001b[0;34m=\u001b[0m \u001b[0m_interval_to_bound_points\u001b[0m\u001b[0;34m(\u001b[0m\u001b[0mval\u001b[0m\u001b[0;34m)\u001b[0m\u001b[0;34m\u001b[0m\u001b[0;34m\u001b[0m\u001b[0m\n\u001b[0m\u001b[1;32m    560\u001b[0m         \u001b[0;32melse\u001b[0m\u001b[0;34m:\u001b[0m\u001b[0;34m\u001b[0m\u001b[0;34m\u001b[0m\u001b[0m\n\u001b[1;32m    561\u001b[0m             \u001b[0mval\u001b[0m \u001b[0;34m=\u001b[0m \u001b[0m_interval_to_mid_points\u001b[0m\u001b[0;34m(\u001b[0m\u001b[0mval\u001b[0m\u001b[0;34m)\u001b[0m\u001b[0;34m\u001b[0m\u001b[0;34m\u001b[0m\u001b[0m\n",
      "\u001b[0;32m~/.pyenv/versions/3.7.3/lib/python3.7/site-packages/xarray/plot/utils.py\u001b[0m in \u001b[0;36m_interval_to_bound_points\u001b[0;34m(array)\u001b[0m\n\u001b[1;32m    485\u001b[0m \u001b[0;34m\u001b[0m\u001b[0m\n\u001b[1;32m    486\u001b[0m     \u001b[0marray_boundaries\u001b[0m \u001b[0;34m=\u001b[0m \u001b[0mnp\u001b[0m\u001b[0;34m.\u001b[0m\u001b[0marray\u001b[0m\u001b[0;34m(\u001b[0m\u001b[0;34m[\u001b[0m\u001b[0mx\u001b[0m\u001b[0;34m.\u001b[0m\u001b[0mleft\u001b[0m \u001b[0;32mfor\u001b[0m \u001b[0mx\u001b[0m \u001b[0;32min\u001b[0m \u001b[0marray\u001b[0m\u001b[0;34m]\u001b[0m\u001b[0;34m)\u001b[0m\u001b[0;34m\u001b[0m\u001b[0;34m\u001b[0m\u001b[0m\n\u001b[0;32m--> 487\u001b[0;31m     \u001b[0marray_boundaries\u001b[0m \u001b[0;34m=\u001b[0m \u001b[0mnp\u001b[0m\u001b[0;34m.\u001b[0m\u001b[0mconcatenate\u001b[0m\u001b[0;34m(\u001b[0m\u001b[0;34m(\u001b[0m\u001b[0marray_boundaries\u001b[0m\u001b[0;34m,\u001b[0m \u001b[0mnp\u001b[0m\u001b[0;34m.\u001b[0m\u001b[0marray\u001b[0m\u001b[0;34m(\u001b[0m\u001b[0;34m[\u001b[0m\u001b[0marray\u001b[0m\u001b[0;34m[\u001b[0m\u001b[0;34m-\u001b[0m\u001b[0;36m1\u001b[0m\u001b[0;34m]\u001b[0m\u001b[0;34m.\u001b[0m\u001b[0mright\u001b[0m\u001b[0;34m]\u001b[0m\u001b[0;34m)\u001b[0m\u001b[0;34m)\u001b[0m\u001b[0;34m)\u001b[0m\u001b[0;34m\u001b[0m\u001b[0;34m\u001b[0m\u001b[0m\n\u001b[0m\u001b[1;32m    488\u001b[0m \u001b[0;34m\u001b[0m\u001b[0m\n\u001b[1;32m    489\u001b[0m     \u001b[0;32mreturn\u001b[0m \u001b[0marray_boundaries\u001b[0m\u001b[0;34m\u001b[0m\u001b[0;34m\u001b[0m\u001b[0m\n",
      "\u001b[0;31mIndexError\u001b[0m: index -1 is out of bounds for axis 0 with size 0"
     ]
    }
   ],
   "source": [
    "fig,ax=plt.subplots(figsize=(15,15))\n",
    "\n",
    "countries=gpd.read_file(gpd.datasets.get_path('naturalearth_lowres'))\n",
    "ds.t2m.isel(valid_time=1).plot(ax=ax)\n",
    "countries.plot(ax=ax,facecolor='none',edgecolor='red')"
   ]
  },
  {
   "cell_type": "code",
   "execution_count": null,
   "metadata": {},
   "outputs": [],
   "source": []
  }
 ]
}