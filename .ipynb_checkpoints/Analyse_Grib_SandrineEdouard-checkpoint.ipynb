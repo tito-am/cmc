{
 "cells": [
  {
   "cell_type": "markdown",
   "id": "neither-holmes",
   "metadata": {},
   "source": [
    "# Fichiers proposés par Sandrine Edouard\n",
    "# JIRA: TEAPD-2599\n",
    "\n"
   ]
  }
 ],
 "metadata": {
  "kernelspec": {
   "display_name": "rdpsgrib",
   "language": "python",
   "name": "rdpsgrib"
  },
  "language_info": {
   "codemirror_mode": {
    "name": "ipython",
    "version": 3
   },
   "file_extension": ".py",
   "mimetype": "text/x-python",
   "name": "python",
   "nbconvert_exporter": "python",
   "pygments_lexer": "ipython3",
   "version": "3.9.2"
  }
 },
 "nbformat": 4,
 "nbformat_minor": 5
}
