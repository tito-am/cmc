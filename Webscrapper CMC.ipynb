{
 "cells": [
  {
   "cell_type": "markdown",
   "id": "greenhouse-springer",
   "metadata": {},
   "source": [
    "# Code pour aller chercher les prévisions d'ensemble étendues"
   ]
  },
  {
   "cell_type": "code",
   "execution_count": 1,
   "id": "painted-color",
   "metadata": {},
   "outputs": [],
   "source": [
    "import requests\n",
    "import urllib.request\n",
    "import time\n",
    "from bs4 import BeautifulSoup\n",
    "import os"
   ]
  },
  {
   "cell_type": "markdown",
   "id": "verbal-extent",
   "metadata": {},
   "source": [
    "## Traitement de la date"
   ]
  },
  {
   "cell_type": "code",
   "execution_count": 22,
   "id": "sustained-metro",
   "metadata": {},
   "outputs": [
    {
     "name": "stdout",
     "output_type": "stream",
     "text": [
      "Today's date: 2021-03-23\n",
      "d1 = 20210323\n"
     ]
    }
   ],
   "source": [
    "#from datetime import date\n",
    "import datetime\n",
    "\n",
    "today = date.today()\n",
    "print(\"Today's date:\", today)\n",
    "#selon le format des fichiers grib\n",
    "d1 = today.strftime(\"%Y%m%d\")\n",
    "print(\"d1 =\", d1)\n",
    "date_time_obj = datetime.datetime.strptime(d1, '%Y%m%d')\n",
    "date_time_obj.weekday()\n",
    "date=date_time_obj.strftime('%A')"
   ]
  },
  {
   "cell_type": "code",
   "execution_count": 23,
   "id": "received-medication",
   "metadata": {},
   "outputs": [],
   "source": [
    "URL = 'https://dd.weather.gc.ca/ensemble/geps/grib2/raw/00/'\n",
    "page = requests.get(URL)\n",
    "soup = BeautifulSoup(page.content, 'html.parser')"
   ]
  },
  {
   "cell_type": "code",
   "execution_count": 56,
   "id": "remarkable-chart",
   "metadata": {},
   "outputs": [],
   "source": [
    "#CMC_geps-raw_TMP_TGL_2m_latlon0p5x0p5_2021031800_P390_allmbrs.grib2\n",
    "def my_function(date,d1):\n",
    "    if date=='Thursday':\n",
    "        for url_b in range(0, 774, 6):\n",
    "            if url_b < 10:\n",
    "                url_a='/CMC_geps-raw_TMP_TGL_2m_latlon0p5x0p5_'+d1+'00_P00'\n",
    "                url_c='_allmbrs.grib2'\n",
    "                print(URL+'00'+str(url_b)+url_a+str(url_b)+url_c)\n",
    "                download_url=URL+'00'+str(url_b)+url_a+str(url_b)+url_c\n",
    "                urllib.request.urlretrieve(download_url,filename='test'+d1+str(url_b)+'.grib2')\n",
    "\n",
    "            elif ((url_b> 10) and (url_b< 100)):\n",
    "                url_a='/CMC_geps-raw_TMP_TGL_2m_latlon0p5x0p5_'+d1+'00_P0'\n",
    "                url_c='_allmbrs.grib2'\n",
    "                print(URL+'0'+str(url_b)+url_a+str(url_b)+url_c)\n",
    "                download_url=URL+'0'+str(url_b)+url_a+str(url_b)+url_c\n",
    "                urllib.request.urlretrieve(download_url,filename='test'+d1+str(url_b)+'.grib2')\n",
    "            else:\n",
    "                url_a='/CMC_geps-raw_TMP_TGL_2m_latlon0p5x0p5_'+d1+'00_P'\n",
    "                url_c='_allmbrs.grib2'\n",
    "                print(URL+str(url_b)+url_a+str(url_b)+url_c)\n",
    "                download_url=URL+str(url_b)+url_a+str(url_b)+url_c\n",
    "                urllib.request.urlretrieve(download_url,filename='test'+d1+str(url_b)+'.grib2')\n",
    "    else:\n",
    "        for url_b in range(0, 390, 6):\n",
    "            if url_b < 10:\n",
    "                url_a='/CMC_geps-raw_TMP_TGL_2m_latlon0p5x0p5_'+d1+'00_P00'\n",
    "                url_c='_allmbrs.grib2'\n",
    "                print(URL+'00'+str(url_b)+url_a+str(url_b)+url_c)\n",
    "                download_url=URL+'00'+str(url_b)+url_a+str(url_b)+url_c\n",
    "                urllib.request.urlretrieve(download_url,filename='test'+d1+str(url_b)+'.grib2')\n",
    "            elif ((url_b> 10) and (url_b< 100)):\n",
    "                url_a='/CMC_geps-raw_TMP_TGL_2m_latlon0p5x0p5_'+d1+'00_P0'\n",
    "                url_c='_allmbrs.grib2'\n",
    "                print(URL+'0'+str(url_b)+url_a+str(url_b)+url_c)\n",
    "                download_url=URL+'0'+str(url_b)+url_a+str(url_b)+url_c\n",
    "                print(download_url)\n",
    "                urllib.request.urlretrieve(download_url,filename='test'+d1+str(url_b)+'.grib2')\n",
    "            else:\n",
    "                url_a='/CMC_geps-raw_TMP_TGL_2m_latlon0p5x0p5_'+d1+'00_P'\n",
    "                url_c='_allmbrs.grib2'\n",
    "                print(URL+str(url_b)+url_a+str(url_b)+url_c)\n",
    "                download_url=URL+str(url_b)+url_a+str(url_b)+url_c\n",
    "                urllib.request.urlretrieve(download_url,filename='test'+d1+str(url_b)+'.grib2')\n",
    "        \n",
    "    "
   ]
  },
  {
   "cell_type": "code",
   "execution_count": 57,
   "id": "advanced-consumer",
   "metadata": {},
   "outputs": [
    {
     "name": "stdout",
     "output_type": "stream",
     "text": [
      "https://dd.weather.gc.ca/ensemble/geps/grib2/raw/00/000/CMC_geps-raw_TMP_TGL_2m_latlon0p5x0p5_2021032300_P000_allmbrs.grib2\n",
      "https://dd.weather.gc.ca/ensemble/geps/grib2/raw/00/006/CMC_geps-raw_TMP_TGL_2m_latlon0p5x0p5_2021032300_P006_allmbrs.grib2\n",
      "https://dd.weather.gc.ca/ensemble/geps/grib2/raw/00/012/CMC_geps-raw_TMP_TGL_2m_latlon0p5x0p5_2021032300_P012_allmbrs.grib2\n",
      "https://dd.weather.gc.ca/ensemble/geps/grib2/raw/00/012/CMC_geps-raw_TMP_TGL_2m_latlon0p5x0p5_2021032300_P012_allmbrs.grib2\n",
      "https://dd.weather.gc.ca/ensemble/geps/grib2/raw/00/018/CMC_geps-raw_TMP_TGL_2m_latlon0p5x0p5_2021032300_P018_allmbrs.grib2\n",
      "https://dd.weather.gc.ca/ensemble/geps/grib2/raw/00/018/CMC_geps-raw_TMP_TGL_2m_latlon0p5x0p5_2021032300_P018_allmbrs.grib2\n",
      "https://dd.weather.gc.ca/ensemble/geps/grib2/raw/00/024/CMC_geps-raw_TMP_TGL_2m_latlon0p5x0p5_2021032300_P024_allmbrs.grib2\n",
      "https://dd.weather.gc.ca/ensemble/geps/grib2/raw/00/024/CMC_geps-raw_TMP_TGL_2m_latlon0p5x0p5_2021032300_P024_allmbrs.grib2\n",
      "https://dd.weather.gc.ca/ensemble/geps/grib2/raw/00/030/CMC_geps-raw_TMP_TGL_2m_latlon0p5x0p5_2021032300_P030_allmbrs.grib2\n",
      "https://dd.weather.gc.ca/ensemble/geps/grib2/raw/00/030/CMC_geps-raw_TMP_TGL_2m_latlon0p5x0p5_2021032300_P030_allmbrs.grib2\n",
      "https://dd.weather.gc.ca/ensemble/geps/grib2/raw/00/036/CMC_geps-raw_TMP_TGL_2m_latlon0p5x0p5_2021032300_P036_allmbrs.grib2\n",
      "https://dd.weather.gc.ca/ensemble/geps/grib2/raw/00/036/CMC_geps-raw_TMP_TGL_2m_latlon0p5x0p5_2021032300_P036_allmbrs.grib2\n",
      "https://dd.weather.gc.ca/ensemble/geps/grib2/raw/00/042/CMC_geps-raw_TMP_TGL_2m_latlon0p5x0p5_2021032300_P042_allmbrs.grib2\n",
      "https://dd.weather.gc.ca/ensemble/geps/grib2/raw/00/042/CMC_geps-raw_TMP_TGL_2m_latlon0p5x0p5_2021032300_P042_allmbrs.grib2\n",
      "https://dd.weather.gc.ca/ensemble/geps/grib2/raw/00/048/CMC_geps-raw_TMP_TGL_2m_latlon0p5x0p5_2021032300_P048_allmbrs.grib2\n",
      "https://dd.weather.gc.ca/ensemble/geps/grib2/raw/00/048/CMC_geps-raw_TMP_TGL_2m_latlon0p5x0p5_2021032300_P048_allmbrs.grib2\n",
      "https://dd.weather.gc.ca/ensemble/geps/grib2/raw/00/054/CMC_geps-raw_TMP_TGL_2m_latlon0p5x0p5_2021032300_P054_allmbrs.grib2\n",
      "https://dd.weather.gc.ca/ensemble/geps/grib2/raw/00/054/CMC_geps-raw_TMP_TGL_2m_latlon0p5x0p5_2021032300_P054_allmbrs.grib2\n",
      "https://dd.weather.gc.ca/ensemble/geps/grib2/raw/00/060/CMC_geps-raw_TMP_TGL_2m_latlon0p5x0p5_2021032300_P060_allmbrs.grib2\n",
      "https://dd.weather.gc.ca/ensemble/geps/grib2/raw/00/060/CMC_geps-raw_TMP_TGL_2m_latlon0p5x0p5_2021032300_P060_allmbrs.grib2\n",
      "https://dd.weather.gc.ca/ensemble/geps/grib2/raw/00/066/CMC_geps-raw_TMP_TGL_2m_latlon0p5x0p5_2021032300_P066_allmbrs.grib2\n",
      "https://dd.weather.gc.ca/ensemble/geps/grib2/raw/00/066/CMC_geps-raw_TMP_TGL_2m_latlon0p5x0p5_2021032300_P066_allmbrs.grib2\n",
      "https://dd.weather.gc.ca/ensemble/geps/grib2/raw/00/072/CMC_geps-raw_TMP_TGL_2m_latlon0p5x0p5_2021032300_P072_allmbrs.grib2\n",
      "https://dd.weather.gc.ca/ensemble/geps/grib2/raw/00/072/CMC_geps-raw_TMP_TGL_2m_latlon0p5x0p5_2021032300_P072_allmbrs.grib2\n",
      "https://dd.weather.gc.ca/ensemble/geps/grib2/raw/00/078/CMC_geps-raw_TMP_TGL_2m_latlon0p5x0p5_2021032300_P078_allmbrs.grib2\n",
      "https://dd.weather.gc.ca/ensemble/geps/grib2/raw/00/078/CMC_geps-raw_TMP_TGL_2m_latlon0p5x0p5_2021032300_P078_allmbrs.grib2\n",
      "https://dd.weather.gc.ca/ensemble/geps/grib2/raw/00/084/CMC_geps-raw_TMP_TGL_2m_latlon0p5x0p5_2021032300_P084_allmbrs.grib2\n",
      "https://dd.weather.gc.ca/ensemble/geps/grib2/raw/00/084/CMC_geps-raw_TMP_TGL_2m_latlon0p5x0p5_2021032300_P084_allmbrs.grib2\n",
      "https://dd.weather.gc.ca/ensemble/geps/grib2/raw/00/090/CMC_geps-raw_TMP_TGL_2m_latlon0p5x0p5_2021032300_P090_allmbrs.grib2\n",
      "https://dd.weather.gc.ca/ensemble/geps/grib2/raw/00/090/CMC_geps-raw_TMP_TGL_2m_latlon0p5x0p5_2021032300_P090_allmbrs.grib2\n",
      "https://dd.weather.gc.ca/ensemble/geps/grib2/raw/00/096/CMC_geps-raw_TMP_TGL_2m_latlon0p5x0p5_2021032300_P096_allmbrs.grib2\n",
      "https://dd.weather.gc.ca/ensemble/geps/grib2/raw/00/096/CMC_geps-raw_TMP_TGL_2m_latlon0p5x0p5_2021032300_P096_allmbrs.grib2\n",
      "https://dd.weather.gc.ca/ensemble/geps/grib2/raw/00/102/CMC_geps-raw_TMP_TGL_2m_latlon0p5x0p5_2021032300_P102_allmbrs.grib2\n",
      "https://dd.weather.gc.ca/ensemble/geps/grib2/raw/00/108/CMC_geps-raw_TMP_TGL_2m_latlon0p5x0p5_2021032300_P108_allmbrs.grib2\n",
      "https://dd.weather.gc.ca/ensemble/geps/grib2/raw/00/114/CMC_geps-raw_TMP_TGL_2m_latlon0p5x0p5_2021032300_P114_allmbrs.grib2\n",
      "https://dd.weather.gc.ca/ensemble/geps/grib2/raw/00/120/CMC_geps-raw_TMP_TGL_2m_latlon0p5x0p5_2021032300_P120_allmbrs.grib2\n",
      "https://dd.weather.gc.ca/ensemble/geps/grib2/raw/00/126/CMC_geps-raw_TMP_TGL_2m_latlon0p5x0p5_2021032300_P126_allmbrs.grib2\n",
      "https://dd.weather.gc.ca/ensemble/geps/grib2/raw/00/132/CMC_geps-raw_TMP_TGL_2m_latlon0p5x0p5_2021032300_P132_allmbrs.grib2\n",
      "https://dd.weather.gc.ca/ensemble/geps/grib2/raw/00/138/CMC_geps-raw_TMP_TGL_2m_latlon0p5x0p5_2021032300_P138_allmbrs.grib2\n",
      "https://dd.weather.gc.ca/ensemble/geps/grib2/raw/00/144/CMC_geps-raw_TMP_TGL_2m_latlon0p5x0p5_2021032300_P144_allmbrs.grib2\n",
      "https://dd.weather.gc.ca/ensemble/geps/grib2/raw/00/150/CMC_geps-raw_TMP_TGL_2m_latlon0p5x0p5_2021032300_P150_allmbrs.grib2\n",
      "https://dd.weather.gc.ca/ensemble/geps/grib2/raw/00/156/CMC_geps-raw_TMP_TGL_2m_latlon0p5x0p5_2021032300_P156_allmbrs.grib2\n",
      "https://dd.weather.gc.ca/ensemble/geps/grib2/raw/00/162/CMC_geps-raw_TMP_TGL_2m_latlon0p5x0p5_2021032300_P162_allmbrs.grib2\n",
      "https://dd.weather.gc.ca/ensemble/geps/grib2/raw/00/168/CMC_geps-raw_TMP_TGL_2m_latlon0p5x0p5_2021032300_P168_allmbrs.grib2\n",
      "https://dd.weather.gc.ca/ensemble/geps/grib2/raw/00/174/CMC_geps-raw_TMP_TGL_2m_latlon0p5x0p5_2021032300_P174_allmbrs.grib2\n",
      "https://dd.weather.gc.ca/ensemble/geps/grib2/raw/00/180/CMC_geps-raw_TMP_TGL_2m_latlon0p5x0p5_2021032300_P180_allmbrs.grib2\n",
      "https://dd.weather.gc.ca/ensemble/geps/grib2/raw/00/186/CMC_geps-raw_TMP_TGL_2m_latlon0p5x0p5_2021032300_P186_allmbrs.grib2\n",
      "https://dd.weather.gc.ca/ensemble/geps/grib2/raw/00/192/CMC_geps-raw_TMP_TGL_2m_latlon0p5x0p5_2021032300_P192_allmbrs.grib2\n",
      "https://dd.weather.gc.ca/ensemble/geps/grib2/raw/00/198/CMC_geps-raw_TMP_TGL_2m_latlon0p5x0p5_2021032300_P198_allmbrs.grib2\n",
      "https://dd.weather.gc.ca/ensemble/geps/grib2/raw/00/204/CMC_geps-raw_TMP_TGL_2m_latlon0p5x0p5_2021032300_P204_allmbrs.grib2\n",
      "https://dd.weather.gc.ca/ensemble/geps/grib2/raw/00/210/CMC_geps-raw_TMP_TGL_2m_latlon0p5x0p5_2021032300_P210_allmbrs.grib2\n",
      "https://dd.weather.gc.ca/ensemble/geps/grib2/raw/00/216/CMC_geps-raw_TMP_TGL_2m_latlon0p5x0p5_2021032300_P216_allmbrs.grib2\n",
      "https://dd.weather.gc.ca/ensemble/geps/grib2/raw/00/222/CMC_geps-raw_TMP_TGL_2m_latlon0p5x0p5_2021032300_P222_allmbrs.grib2\n",
      "https://dd.weather.gc.ca/ensemble/geps/grib2/raw/00/228/CMC_geps-raw_TMP_TGL_2m_latlon0p5x0p5_2021032300_P228_allmbrs.grib2\n",
      "https://dd.weather.gc.ca/ensemble/geps/grib2/raw/00/234/CMC_geps-raw_TMP_TGL_2m_latlon0p5x0p5_2021032300_P234_allmbrs.grib2\n",
      "https://dd.weather.gc.ca/ensemble/geps/grib2/raw/00/240/CMC_geps-raw_TMP_TGL_2m_latlon0p5x0p5_2021032300_P240_allmbrs.grib2\n",
      "https://dd.weather.gc.ca/ensemble/geps/grib2/raw/00/246/CMC_geps-raw_TMP_TGL_2m_latlon0p5x0p5_2021032300_P246_allmbrs.grib2\n",
      "https://dd.weather.gc.ca/ensemble/geps/grib2/raw/00/252/CMC_geps-raw_TMP_TGL_2m_latlon0p5x0p5_2021032300_P252_allmbrs.grib2\n",
      "https://dd.weather.gc.ca/ensemble/geps/grib2/raw/00/258/CMC_geps-raw_TMP_TGL_2m_latlon0p5x0p5_2021032300_P258_allmbrs.grib2\n",
      "https://dd.weather.gc.ca/ensemble/geps/grib2/raw/00/264/CMC_geps-raw_TMP_TGL_2m_latlon0p5x0p5_2021032300_P264_allmbrs.grib2\n",
      "https://dd.weather.gc.ca/ensemble/geps/grib2/raw/00/270/CMC_geps-raw_TMP_TGL_2m_latlon0p5x0p5_2021032300_P270_allmbrs.grib2\n",
      "https://dd.weather.gc.ca/ensemble/geps/grib2/raw/00/276/CMC_geps-raw_TMP_TGL_2m_latlon0p5x0p5_2021032300_P276_allmbrs.grib2\n",
      "https://dd.weather.gc.ca/ensemble/geps/grib2/raw/00/282/CMC_geps-raw_TMP_TGL_2m_latlon0p5x0p5_2021032300_P282_allmbrs.grib2\n",
      "https://dd.weather.gc.ca/ensemble/geps/grib2/raw/00/288/CMC_geps-raw_TMP_TGL_2m_latlon0p5x0p5_2021032300_P288_allmbrs.grib2\n",
      "https://dd.weather.gc.ca/ensemble/geps/grib2/raw/00/294/CMC_geps-raw_TMP_TGL_2m_latlon0p5x0p5_2021032300_P294_allmbrs.grib2\n",
      "https://dd.weather.gc.ca/ensemble/geps/grib2/raw/00/300/CMC_geps-raw_TMP_TGL_2m_latlon0p5x0p5_2021032300_P300_allmbrs.grib2\n",
      "https://dd.weather.gc.ca/ensemble/geps/grib2/raw/00/306/CMC_geps-raw_TMP_TGL_2m_latlon0p5x0p5_2021032300_P306_allmbrs.grib2\n",
      "https://dd.weather.gc.ca/ensemble/geps/grib2/raw/00/312/CMC_geps-raw_TMP_TGL_2m_latlon0p5x0p5_2021032300_P312_allmbrs.grib2\n",
      "https://dd.weather.gc.ca/ensemble/geps/grib2/raw/00/318/CMC_geps-raw_TMP_TGL_2m_latlon0p5x0p5_2021032300_P318_allmbrs.grib2\n",
      "https://dd.weather.gc.ca/ensemble/geps/grib2/raw/00/324/CMC_geps-raw_TMP_TGL_2m_latlon0p5x0p5_2021032300_P324_allmbrs.grib2\n",
      "https://dd.weather.gc.ca/ensemble/geps/grib2/raw/00/330/CMC_geps-raw_TMP_TGL_2m_latlon0p5x0p5_2021032300_P330_allmbrs.grib2\n",
      "https://dd.weather.gc.ca/ensemble/geps/grib2/raw/00/336/CMC_geps-raw_TMP_TGL_2m_latlon0p5x0p5_2021032300_P336_allmbrs.grib2\n",
      "https://dd.weather.gc.ca/ensemble/geps/grib2/raw/00/342/CMC_geps-raw_TMP_TGL_2m_latlon0p5x0p5_2021032300_P342_allmbrs.grib2\n",
      "https://dd.weather.gc.ca/ensemble/geps/grib2/raw/00/348/CMC_geps-raw_TMP_TGL_2m_latlon0p5x0p5_2021032300_P348_allmbrs.grib2\n",
      "https://dd.weather.gc.ca/ensemble/geps/grib2/raw/00/354/CMC_geps-raw_TMP_TGL_2m_latlon0p5x0p5_2021032300_P354_allmbrs.grib2\n",
      "https://dd.weather.gc.ca/ensemble/geps/grib2/raw/00/360/CMC_geps-raw_TMP_TGL_2m_latlon0p5x0p5_2021032300_P360_allmbrs.grib2\n",
      "https://dd.weather.gc.ca/ensemble/geps/grib2/raw/00/366/CMC_geps-raw_TMP_TGL_2m_latlon0p5x0p5_2021032300_P366_allmbrs.grib2\n",
      "https://dd.weather.gc.ca/ensemble/geps/grib2/raw/00/372/CMC_geps-raw_TMP_TGL_2m_latlon0p5x0p5_2021032300_P372_allmbrs.grib2\n",
      "https://dd.weather.gc.ca/ensemble/geps/grib2/raw/00/378/CMC_geps-raw_TMP_TGL_2m_latlon0p5x0p5_2021032300_P378_allmbrs.grib2\n",
      "https://dd.weather.gc.ca/ensemble/geps/grib2/raw/00/384/CMC_geps-raw_TMP_TGL_2m_latlon0p5x0p5_2021032300_P384_allmbrs.grib2\n"
     ]
    }
   ],
   "source": [
    "my_function(date,d1)\n"
   ]
  },
  {
   "cell_type": "code",
   "execution_count": 53,
   "id": "listed-enforcement",
   "metadata": {},
   "outputs": [
    {
     "data": {
      "text/plain": [
       "'/Users/caramelo/Documents/GitHub/cmc'"
      ]
     },
     "execution_count": 53,
     "metadata": {},
     "output_type": "execute_result"
    }
   ],
   "source": [
    "os.getcwd()\n"
   ]
  },
  {
   "cell_type": "code",
   "execution_count": null,
   "id": "binding-album",
   "metadata": {},
   "outputs": [],
   "source": []
  }
 ],
 "metadata": {
  "kernelspec": {
   "display_name": "test_xesmf",
   "language": "python",
   "name": "test_xesmf"
  },
  "language_info": {
   "codemirror_mode": {
    "name": "ipython",
    "version": 3
   },
   "file_extension": ".py",
   "mimetype": "text/x-python",
   "name": "python",
   "nbconvert_exporter": "python",
   "pygments_lexer": "ipython3",
   "version": "3.9.2"
  }
 },
 "nbformat": 4,
 "nbformat_minor": 5
}
