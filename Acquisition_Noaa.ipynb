{
 "cells": [
  {
   "cell_type": "markdown",
   "id": "violent-market",
   "metadata": {},
   "source": [
    "# TEAPD-2604: Avant projet APD2: Analyse des besoins pour intrants météo avec Rachel\n",
    "\n",
    "Cette note a pour but de répertorier les pipelines d'acquisition de modèles météorologiques existants autres que celui est utilisé actuellement, soit le GEM régional du CMC.\n",
    "\n",
    "## Volet 1) Acquisition de nouveaux modèles météorologiques\n",
    "* NOAA\n",
    "* ECMWF\n",
    "* DWD\n",
    "* UKMET\n"
   ]
  },
  {
   "cell_type": "code",
   "execution_count": null,
   "id": "rental-reasoning",
   "metadata": {},
   "outputs": [],
   "source": []
  }
 ],
 "metadata": {
  "kernelspec": {
   "display_name": "rdpsgrib",
   "language": "python",
   "name": "rdpsgrib"
  },
  "language_info": {
   "codemirror_mode": {
    "name": "ipython",
    "version": 3
   },
   "file_extension": ".py",
   "mimetype": "text/x-python",
   "name": "python",
   "nbconvert_exporter": "python",
   "pygments_lexer": "ipython3",
   "version": "3.9.2"
  }
 },
 "nbformat": 4,
 "nbformat_minor": 5
}
