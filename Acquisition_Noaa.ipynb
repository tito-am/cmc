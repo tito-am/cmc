{
 "cells": [
  {
   "cell_type": "markdown",
   "id": "comfortable-reader",
   "metadata": {},
   "source": [
    "# TEAPD-2604: Avant projet APD2: Analyse des besoins pour intrants météo avec Rachel\n",
    "\n",
    "Cette note a pour but de répertorier les pipelines d'acquisition de modèles météorologiques existants autres que celui est utilisé actuellement, soit le GEM régional du CMC.\n",
    "\n",
    "## Volet 1) Acquisition de nouveaux modèles météorologiques\n",
    "* NOAA : https://www.cpc.ncep.noaa.gov/products/wesley/fast_downloading_grib.html\n",
    "* ECMWF\n",
    "* DWD\n",
    "* UKMET\n",
    "* CMC: https://journals.ametsoc.org/view/journals/bams/101/3/bams-d-19-0143.1.xml\n",
    "\n",
    "    http://dd.alpha.weather.gc.ca\n",
    "    \n",
    "    https://dd.weather.gc.ca"
   ]
  },
  {
   "cell_type": "code",
   "execution_count": null,
   "id": "american-racing",
   "metadata": {},
   "outputs": [],
   "source": []
  }
 ],
 "metadata": {
  "kernelspec": {
   "display_name": "rdpsgrib",
   "language": "python",
   "name": "rdpsgrib"
  },
  "language_info": {
   "codemirror_mode": {
    "name": "ipython",
    "version": 3
   },
   "file_extension": ".py",
   "mimetype": "text/x-python",
   "name": "python",
   "nbconvert_exporter": "python",
   "pygments_lexer": "ipython3",
   "version": "3.9.2"
  }
 },
 "nbformat": 4,
 "nbformat_minor": 5
}
